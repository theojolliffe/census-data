{
 "cells": [
  {
   "cell_type": "code",
   "execution_count": 2,
   "id": "46a470e1-8171-4fc6-b155-f7da1e401f98",
   "metadata": {},
   "outputs": [
    {
     "name": "stdout",
     "output_type": "stream",
     "text": [
      "Cloning into 'spacy-clausie'...\n",
      "remote: Enumerating objects: 310, done.\u001b[K\n",
      "remote: Counting objects: 100% (189/189), done.\u001b[K\n",
      "remote: Compressing objects: 100% (116/116), done.\u001b[K\n",
      "remote: Total 310 (delta 91), reused 160 (delta 70), pack-reused 121\u001b[K\n",
      "Receiving objects: 100% (310/310), 75.64 KiB | 3.44 MiB/s, done.\n",
      "Resolving deltas: 100% (135/135), done.\n"
     ]
    }
   ],
   "source": [
    "!git clone https://github.com/mmxgn/spacy-clausie.git"
   ]
  },
  {
   "cell_type": "code",
   "execution_count": 6,
   "id": "748dd681-500e-47d0-8da0-7a01c4e66f9e",
   "metadata": {},
   "outputs": [],
   "source": [
    "!cd 'spacy-clausie'"
   ]
  },
  {
   "cell_type": "code",
   "execution_count": 4,
   "id": "3c7c7124-cd8f-48c1-8e04-8a7a3eb9e777",
   "metadata": {},
   "outputs": [
    {
     "name": "stdout",
     "output_type": "stream",
     "text": [
      "python: can't open file 'setup.py': [Errno 2] No such file or directory\n"
     ]
    }
   ],
   "source": [
    "!python setup.py build"
   ]
  },
  {
   "cell_type": "code",
   "execution_count": 7,
   "id": "7cc9d5e7-2b5d-482a-bce3-d2a3b36855ad",
   "metadata": {},
   "outputs": [
    {
     "name": "stdout",
     "output_type": "stream",
     "text": [
      "/Users/theojolliffe/Documents/census-data-transformed\n"
     ]
    }
   ],
   "source": [
    "!pwd"
   ]
  },
  {
   "cell_type": "code",
   "execution_count": null,
   "id": "41907f34-f807-4654-a810-203d98ae523a",
   "metadata": {},
   "outputs": [],
   "source": []
  }
 ],
 "metadata": {
  "kernelspec": {
   "display_name": "Python 3",
   "language": "python",
   "name": "python3"
  },
  "language_info": {
   "codemirror_mode": {
    "name": "ipython",
    "version": 3
   },
   "file_extension": ".py",
   "mimetype": "text/x-python",
   "name": "python",
   "nbconvert_exporter": "python",
   "pygments_lexer": "ipython3",
   "version": "3.8.8"
  }
 },
 "nbformat": 4,
 "nbformat_minor": 5
}
