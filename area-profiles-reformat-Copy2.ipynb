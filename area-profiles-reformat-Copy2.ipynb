{
 "cells": [
  {
   "cell_type": "markdown",
   "metadata": {},
   "source": [
    "# Census rankings"
   ]
  },
  {
   "cell_type": "code",
   "execution_count": 1,
   "metadata": {},
   "outputs": [],
   "source": [
    "import pandas as pd\n",
    "import numpy as np\n",
    "import json\n",
    "import math"
   ]
  },
  {
   "cell_type": "code",
   "execution_count": 2,
   "metadata": {},
   "outputs": [],
   "source": [
    "options = pd.read_csv('./csv/lists/places_2020.csv')"
   ]
  },
  {
   "cell_type": "code",
   "execution_count": 3,
   "metadata": {},
   "outputs": [
    {
     "name": "stdout",
     "output_type": "stream",
     "text": [
      "E05009289\n",
      "E05009290\n",
      "E05009293\n",
      "E05009294\n",
      "E05009295\n",
      "E05009297\n",
      "E05009298\n",
      "E05009299\n",
      "E05009300\n",
      "E05009301\n",
      "E05009303\n",
      "E05009306\n",
      "E05009307\n",
      "E05009312\n",
      "E05011090\n"
     ]
    }
   ],
   "source": [
    "areas = []\n",
    "for i in options[\"code\"]:\n",
    "    try:\n",
    "        areas.append(json.load(open(f'/Users/theojolliffe/Documents/Census Data/census-data-main/json/place/{i}.json', 'rb')))\n",
    "    except FileNotFoundError:\n",
    "        print(i)\n",
    "        pass"
   ]
  },
  {
   "cell_type": "code",
   "execution_count": 4,
   "metadata": {},
   "outputs": [],
   "source": [
    "wards = []\n",
    "for i in areas:\n",
    "    if i['type']=='wd':\n",
    "        wards.append(i)\n",
    "        \n",
    "regions = []\n",
    "for i in areas:\n",
    "    if i['type']=='rgn':\n",
    "        regions.append(i)\n",
    "        \n",
    "lads = []\n",
    "for i in areas:\n",
    "    if i['type']=='lad':\n",
    "        lads.append(i)\n",
    "        \n",
    "countries = []\n",
    "for i in areas:\n",
    "    if (i['type']=='ew')|(i['type']=='ctry'):\n",
    "        countries.append(i)"
   ]
  },
  {
   "cell_type": "code",
   "execution_count": null,
   "metadata": {},
   "outputs": [],
   "source": []
  },
  {
   "cell_type": "code",
   "execution_count": 5,
   "metadata": {},
   "outputs": [],
   "source": [
    "for thisRegion in regions:\n",
    "    \n",
    "    # Empty array will be populted with ranks for each variable\n",
    "    ranks = []\n",
    "\n",
    "    # Filter areas with same parent\n",
    "    sister_regions = []\n",
    "    region_code = thisRegion['parents'][0]['code']\n",
    "    for i in regions:\n",
    "        if  region_code == i['parents'][0]['code']:\n",
    "            sister_regions.append(i)\n",
    "\n",
    "    # Loop through the various data variables\n",
    "    for a in thisRegion['data']:\n",
    "        if a in ['population', 'density', 'agemed']:\n",
    "            b = 'value'\n",
    "        else:\n",
    "            b = 'perc'\n",
    "        # Create nested object with localised rank\n",
    "        thisRegion['data'][a][b+\"_rank_local\"] = {}    \n",
    "        for c in ['2011', 'change']:\n",
    "            thisRegion['data'][a][b+\"_rank_local\"][c] = {}\n",
    "            for d in thisRegion['data'][a][b][c]:\n",
    "                vari = thisRegion['data'][a][b][c][d]\n",
    "\n",
    "                # Create sorted list of values from sister areas\n",
    "                group_values = []\n",
    "                for region in sister_regions:\n",
    "                    group_values.append(region['data'][a][b][c][d])\n",
    "                    group_values = [x if (type(x) == float) | (type(x) == int) else np.nan for x in group_values]\n",
    "                group_values.sort(reverse=True)\n",
    "\n",
    "                # Find index of value of area of interest\n",
    "                try:\n",
    "                    varRank = group_values.index(vari) + 1\n",
    "                except ValueError:\n",
    "                    print(thisRegion['name'])\n",
    "                    pass\n",
    "\n",
    "                # Convert bottom half rankings into negative values\n",
    "                if varRank>len(group_values)/2:\n",
    "                    varRank = varRank-len(group_values)-1\n",
    "\n",
    "                thisRegion['data'][a][b+\"_rank_local\"][c][d] = varRank\n",
    "\n",
    "                # Append ranking data to original array\n",
    "                ranks.append({\n",
    "                    'label': a+'_'+b+'_'+c+'_'+d, \n",
    "                    'value': varRank, \n",
    "                    'sqr': varRank**2, \n",
    "                    'sqrt': math.sqrt(varRank**2), \n",
    "                    'abVal': vari})\n",
    "\n",
    "    # Sort in rank order\n",
    "    ranks = sorted(ranks, key=lambda x: x['sqr'])\n",
    "    thisRegion[\"Priorities\"] = ranks"
   ]
  },
  {
   "cell_type": "code",
   "execution_count": 6,
   "metadata": {},
   "outputs": [
    {
     "name": "stdout",
     "output_type": "stream",
     "text": [
      "Hampton Vale\n",
      "Hampton Vale\n",
      "Hampton Vale\n",
      "Hampton Vale\n",
      "Kingsway\n",
      "Kingsway\n",
      "Kingsway\n",
      "Kingsway\n",
      "St Agnes\n",
      "St Agnes\n",
      "St Agnes\n",
      "St Agnes\n",
      "St Neots East\n",
      "St Neots East\n",
      "St Neots East\n",
      "St Neots East\n",
      "Cranbrook\n",
      "Cranbrook\n",
      "Cranbrook\n",
      "Cranbrook\n",
      "Bridge\n",
      "Bridge\n",
      "Bridge\n",
      "Bridge\n"
     ]
    }
   ],
   "source": [
    "for thisWard in wards:\n",
    "    \n",
    "    # Empty array will be populted with ranks for each variable\n",
    "    ranks = []\n",
    "\n",
    "    # Filter areas with same parent\n",
    "    sister_wards = []\n",
    "    ward_code = thisWard['parents'][0]['code']\n",
    "    for i in wards:\n",
    "        if  ward_code == i['parents'][0]['code']:\n",
    "            sister_wards.append(i)\n",
    "\n",
    "    # Loop through the various data variables\n",
    "    for a in thisWard['data']:\n",
    "        if a in ['population', 'density', 'agemed']:\n",
    "            b = 'value'\n",
    "        else:\n",
    "            b = 'perc'\n",
    "        # Create nested object with localised rank\n",
    "        thisWard['data'][a][b+\"_rank_local\"] = {}    \n",
    "        for c in ['2011', 'change']:\n",
    "            thisWard['data'][a][b+\"_rank_local\"][c] = {}\n",
    "            for d in thisWard['data'][a][b][c]:\n",
    "                vari = thisWard['data'][a][b][c][d]\n",
    "\n",
    "                # Create sorted list of values from sister areas\n",
    "                group_values = []\n",
    "                for ward in sister_wards:\n",
    "                    group_values.append(ward['data'][a][b][c][d])\n",
    "                    group_values = [x if (type(x) == float) | (type(x) == int) else np.nan for x in group_values]\n",
    "                group_values.sort(reverse=True)\n",
    "\n",
    "                # Find index of value of area of interest\n",
    "                try:\n",
    "                    varRank = group_values.index(vari) + 1\n",
    "                except ValueError:\n",
    "                    print(thisWard['name'])\n",
    "                    pass\n",
    "\n",
    "                # Convert bottom half rankings into negative values\n",
    "                if varRank>len(group_values)/2:\n",
    "                    varRank = varRank-len(group_values)-1\n",
    "\n",
    "                thisWard['data'][a][b+\"_rank_local\"][c][d] = varRank\n",
    "\n",
    "                # Append ranking data to original array\n",
    "                ranks.append({\n",
    "                    'label': a+'_'+b+'_'+c+'_'+d, \n",
    "                    'value': varRank, \n",
    "                    'sqr': varRank**2, \n",
    "                    'sqrt': math.sqrt(varRank**2), \n",
    "                    'abVal': vari})\n",
    "\n",
    "    # Sort in rank order\n",
    "    ranks = sorted(ranks, key=lambda x: x['sqr'])\n",
    "    thisWard[\"Priorities\"] = ranks"
   ]
  },
  {
   "cell_type": "code",
   "execution_count": null,
   "metadata": {},
   "outputs": [],
   "source": [
    "for thisLad in lads:\n",
    "    \n",
    "    # Empty array will be populted with ranks for each variable\n",
    "    ranks = []\n",
    "\n",
    "    # Filter areas with same parent\n",
    "    sister_lads = []\n",
    "    lad_code = thisLad['parents'][0]['code']\n",
    "    for i in range(len(lads)):\n",
    "        if  lad_code == lads[i]['parents'][0]['code']:\n",
    "            sister_lads.append(lads[i])\n",
    "\n",
    "    # Loop through the various data variables\n",
    "    for a in thisLad['data']:\n",
    "        if a in ['population', 'density', 'agemed']:\n",
    "            b = 'value'\n",
    "        else:\n",
    "            b = 'perc'\n",
    "        # Create nested object with localised rank\n",
    "        thisLad['data'][a][b+\"_rank_local\"] = {}    \n",
    "        for c in ['2011', 'change']:\n",
    "            thisLad['data'][a][b+\"_rank_local\"][c] = {}\n",
    "            for d in thisLad['data'][a][b][c]:\n",
    "                vari = thisLad['data'][a][b][c][d]\n",
    "\n",
    "                # Create sorted list of values from sister areas\n",
    "                group_values = []\n",
    "                for lad in sister_lads:\n",
    "                    group_values.append(lad['data'][a][b][c][d])\n",
    "                    group_values = [x if (type(x) == float) | (type(x) == int) else np.nan for x in group_values]\n",
    "                group_values.sort(reverse=True)\n",
    "\n",
    "                # Find index of value of area of interest\n",
    "                varRank = group_values.index(vari) + 1\n",
    "\n",
    "                # Convert bottom half rankings into negative values\n",
    "                if varRank>len(group_values)/2:\n",
    "                    varRank = varRank-len(group_values)-1\n",
    "\n",
    "                thisLad['data'][a][b+\"_rank_local\"][c][d] = varRank\n",
    "\n",
    "                # Append ranking data to original array\n",
    "                ranks.append({\n",
    "                    'label': a+'_'+b+'_'+c+'_'+d, \n",
    "                    'value': varRank, \n",
    "                    'sqr': varRank**2, \n",
    "                    'sqrt': math.sqrt(varRank**2), \n",
    "                    'abVal': vari})\n",
    "\n",
    "    # Sort in rank order\n",
    "    ranks = sorted(ranks, key=lambda x: x['sqr'])\n",
    "    thisLad[\"Priorities\"] = ranks\n"
   ]
  },
  {
   "cell_type": "code",
   "execution_count": null,
   "metadata": {},
   "outputs": [],
   "source": []
  },
  {
   "cell_type": "code",
   "execution_count": null,
   "metadata": {},
   "outputs": [],
   "source": []
  },
  {
   "cell_type": "code",
   "execution_count": null,
   "metadata": {},
   "outputs": [],
   "source": [
    "topics = [{1: 'population', 2: 'value', 3: 'all'}, \n",
    "          {1: 'health', 2: 'perc', 3: 'good'},\n",
    "          {1: 'travel', 2: 'perc', 3: 'car_van'},\n",
    "          {1: 'agemed', 2: 'value', 3: 'all'},\n",
    "          {1: 'economic', 2: 'perc', 3: 'employee'},\n",
    "          {1: 'health', 2: 'perc', 3: 'bad'},\n",
    "          {1: 'ethnicity', 2: 'perc', 3: 'black'},\n",
    "         ]"
   ]
  },
  {
   "cell_type": "code",
   "execution_count": null,
   "metadata": {},
   "outputs": [],
   "source": [
    "ladCodes = []\n",
    "for lad in lads:\n",
    "    ladCodes.append(lad['code'])\n"
   ]
  },
  {
   "cell_type": "code",
   "execution_count": null,
   "metadata": {},
   "outputs": [],
   "source": [
    "df = pd.DataFrame(columns=\n",
    "                  ['lad', '2001',  '2011',  'change', 'natRank', 'localRank', 'topic', 'parent'])\n",
    "for j in range(len(topics)):\n",
    "    df1 = pd.DataFrame(index=ladCodes, columns=\n",
    "                      ['lad', '2001',  '2011',  'change', 'natRank', 'localRank', 'topic', 'parent'])\n",
    "    for i in range(len(lads)):\n",
    "        df1['lad'].iloc[i] = lads[i]['name']\n",
    "        df1['2001'].iloc[i] = lads[i]['data'][topics[j][1]][topics[j][2]]['2001'][topics[j][3]]\n",
    "        df1['2011'].iloc[i] = lads[i]['data'][topics[j][1]][topics[j][2]]['2011'][topics[j][3]]    \n",
    "        df1['change'].iloc[i] = lads[i]['data'][topics[j][1]][topics[j][2]]['change'][topics[j][3]]\n",
    "        df1['natRank'].iloc[i] = lads[i]['data'][topics[j][1]][topics[j][2]+\"_rank\"]['change'][topics[j][3]]    \n",
    "        df1['localRank'].iloc[i] = lads[i]['data'][topics[j][1]][topics[j][2]+\"_rank_local\"]['change'][topics[j][3]]    \n",
    "        df1['topic'].iloc[i] = topics[j][1]+\"_\"+topics[j][3]\n",
    "        df1['parent'].iloc[i] = lads[i]['parents'][0]['name']\n",
    "    df = pd.concat([df,df1])\n",
    "df['natRank'] = np.where(df['natRank'] > 168, df['natRank']-337,df['natRank'])"
   ]
  },
  {
   "cell_type": "code",
   "execution_count": null,
   "metadata": {},
   "outputs": [],
   "source": []
  },
  {
   "cell_type": "code",
   "execution_count": null,
   "metadata": {},
   "outputs": [],
   "source": [
    "for topic in topics:\n",
    "    for lad in lads:\n",
    "        \n",
    "#       Find the areas that this area has overtaken\n",
    "        v2001 = lad['data'][topic[1]][topic[2]]['2001'][topic[3]]\n",
    "        v2011 = lad['data'][topic[1]][topic[2]]['2011'][topic[3]]\n",
    "        dfT = df[(df['topic']==topic[1]+\"_\"+topic[3])&(df['2001']>v2001)&(df['2011']<v2011)]\n",
    "        obje = []\n",
    "        for i in range(dfT.shape[0]):\n",
    "            obje.append(dfT.iloc[i]['lad'])\n",
    "\n",
    "        lad['data'][topic[1]][topic[2]+\"_rank\"]['overtake'] = {}\n",
    "        lad['data'][topic[1]][topic[2]+\"_rank\"]['overtake'][topic[3]] = obje\n",
    "        \n",
    "#       Find the area immediatly above or below\n",
    "        below = lad['data'][topic[1]][topic[2]+'_rank_local']['2011'][topic[3]]\n",
    "        above = lad['data'][topic[1]][topic[2]+'_rank_local']['2011'][topic[3]]-2\n",
    "        if below<0:\n",
    "            below=below+1\n",
    "            above=above+1\n",
    "        reg = lad['parents'][0]['name']\n",
    "        name_above = df[(df['parent']==reg)&(df['topic']==topic[1]+\"_\"+topic[3])].sort_values('2011', ascending=False).iloc[above]['lad']\n",
    "        name_below = df[(df['parent']==reg)&(df['topic']==topic[1]+\"_\"+topic[3])].sort_values('2011', ascending=False).iloc[below]['lad']\n",
    "        if above>0:\n",
    "            area_above = {'name': name_above,\n",
    "                         'value': df[(df['lad']==name_above)&(df['topic']==topic[1]+\"_\"+topic[3])]['2011'].iloc[0]}\n",
    "        else:\n",
    "            area_above = 'NaN'\n",
    "        if below<len(df[(df['parent']==reg)&(df['topic']==topic[1]+\"_\"+topic[3])]):\n",
    "            area_below = {'name': name_below,\n",
    "                          'value': df[(df['lad']==name_below)&(df['topic']==topic[1]+\"_\"+topic[3])]['2011'].iloc[0]}\n",
    "        else:\n",
    "            area_below = 'NaN'\n",
    "        \n",
    "        if 'above_below' not in lad['data'][topic[1]][topic[2]+'_rank_local'].keys():\n",
    "            lad['data'][topic[1]][topic[2]+'_rank_local']['above_below'] = {}\n",
    "\n",
    "        if topic[3] not in lad['data'][topic[1]][topic[2]+'_rank_local']['above_below'].keys():\n",
    "            lad['data'][topic[1]][topic[2]+'_rank_local']['above_below'][topic[3]] = {}\n",
    "        \n",
    "        lad['data'][topic[1]][topic[2]+'_rank_local']['above_below'][topic[3]][\"above\"] = area_above\n",
    "        lad['data'][topic[1]][topic[2]+'_rank_local']['above_below'][topic[3]][\"below\"] = area_below\n",
    "        if lad['name']=='Manchester':\n",
    "            print('*********')\n",
    "            print('topic:', topic[1]+\"_\"+topic[3])\n",
    "            print('area_below:', area_below)\n",
    "            print('area_above:', area_above)\n",
    "            print('below:', below)\n",
    "            print('above:', above)\n",
    "            \n",
    "        # Add top and bottom three biggest movers for each subject to every area\n",
    "        df_topic = df[(df['topic']==topic[1]+\"_\"+topic[3])&(abs(df['natRank'])<4)]\n",
    "        ob = {}\n",
    "        for index, row in df_topic.iterrows():\n",
    "            ob[row['natRank']]= {row['lad']: row['change']}\n",
    "        if 'top_bottom' not in lad['data'][topic[1]][topic[2]+'_rank'].keys():\n",
    "            lad['data'][topic[1]][topic[2]+'_rank']['top_bottom'] = {}\n",
    "        lad['data'][topic[1]][topic[2]+'_rank']['top_bottom'][topic[3]]=ob\n"
   ]
  },
  {
   "cell_type": "code",
   "execution_count": null,
   "metadata": {},
   "outputs": [],
   "source": []
  },
  {
   "cell_type": "code",
   "execution_count": null,
   "metadata": {},
   "outputs": [],
   "source": [
    "lads[247]['data']['health']['perc_rank_local']['above_below']"
   ]
  },
  {
   "cell_type": "code",
   "execution_count": null,
   "metadata": {},
   "outputs": [],
   "source": []
  },
  {
   "cell_type": "code",
   "execution_count": null,
   "metadata": {},
   "outputs": [],
   "source": [
    "for lad in lads:\n",
    "    with open('/Users/theojolliffe/Documents/census-data-transformed/json/place/'+lad['code']+'.json', 'w') as outfile:\n",
    "        json.dump(lad, outfile)"
   ]
  },
  {
   "cell_type": "code",
   "execution_count": null,
   "metadata": {},
   "outputs": [],
   "source": []
  },
  {
   "cell_type": "code",
   "execution_count": null,
   "metadata": {},
   "outputs": [],
   "source": [
    "!git add .\n",
    "!git commit -m \"Add files\"\n",
    "!git push -u origin main"
   ]
  },
  {
   "cell_type": "code",
   "execution_count": null,
   "metadata": {},
   "outputs": [],
   "source": []
  },
  {
   "cell_type": "code",
   "execution_count": null,
   "metadata": {},
   "outputs": [],
   "source": []
  },
  {
   "cell_type": "code",
   "execution_count": null,
   "metadata": {},
   "outputs": [],
   "source": []
  },
  {
   "cell_type": "code",
   "execution_count": null,
   "metadata": {},
   "outputs": [],
   "source": [
    "for ward in wards:\n",
    "    with open('/Users/theojolliffe/Documents/census-data-ranked/json/place/'+ward['code']+'.json', 'w') as outfile:\n",
    "        json.dump(ward, outfile)"
   ]
  },
  {
   "cell_type": "code",
   "execution_count": null,
   "metadata": {},
   "outputs": [],
   "source": [
    "for region in regions:\n",
    "    with open('/Users/theojolliffe/Documents/census-data-ranked/json/place/'+region['code']+'.json', 'w') as outfile:\n",
    "        json.dump(region, outfile)"
   ]
  },
  {
   "cell_type": "code",
   "execution_count": null,
   "metadata": {},
   "outputs": [],
   "source": [
    "for country in countries:\n",
    "    with open('/Users/theojolliffe/Documents/census-data-ranked/json/place/'+country['code']+'.json', 'w') as outfile:\n",
    "        json.dump(country, outfile)"
   ]
  },
  {
   "cell_type": "code",
   "execution_count": null,
   "metadata": {},
   "outputs": [],
   "source": []
  }
 ],
 "metadata": {
  "kernelspec": {
   "display_name": "Python 3",
   "language": "python",
   "name": "python3"
  },
  "language_info": {
   "codemirror_mode": {
    "name": "ipython",
    "version": 3
   },
   "file_extension": ".py",
   "mimetype": "text/x-python",
   "name": "python",
   "nbconvert_exporter": "python",
   "pygments_lexer": "ipython3",
   "version": "3.8.8"
  }
 },
 "nbformat": 4,
 "nbformat_minor": 4
}
