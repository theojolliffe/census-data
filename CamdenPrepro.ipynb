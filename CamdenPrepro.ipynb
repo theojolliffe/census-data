{
 "cells": [
  {
   "cell_type": "code",
   "execution_count": 1,
   "id": "cf777daa-fdff-45c5-bd81-5b10594e464d",
   "metadata": {},
   "outputs": [],
   "source": [
    "import pandas as pd\n",
    "import json\n",
    "import networkx as nx\n",
    "from networkx_query import search_nodes, search_edges\n",
    "import numpy as np"
   ]
  },
  {
   "cell_type": "code",
   "execution_count": 2,
   "id": "08f52317-ef12-42b1-b904-5aa67684a30a",
   "metadata": {},
   "outputs": [],
   "source": [
    "options = pd.read_csv('./csv/lists/places_2020.csv')\n",
    "areaType = pd.read_csv('/Users/theojolliffe/Documents/Census Data/censusAreaLookup.csv')\n",
    "tfidf = pd.read_csv('/Users/theojolliffe/Documents/Wayback BBC/BBCRegionalTFIDF.csv')\n",
    "typeLookup = {}\n",
    "for i in areaType.index:\n",
    "    typeLookup[areaType.iloc[i]['Name']]=areaType.iloc[i]['Group name']"
   ]
  },
  {
   "cell_type": "code",
   "execution_count": 121,
   "id": "8d1e89cf-589b-4f99-ab2a-b1fad36ecd82",
   "metadata": {
    "tags": []
   },
   "outputs": [
    {
     "name": "stdout",
     "output_type": "stream",
     "text": [
      "E05009289\n",
      "E05009290\n",
      "E05009293\n",
      "E05009294\n",
      "E05009295\n",
      "E05009297\n",
      "E05009298\n",
      "E05009299\n",
      "E05009300\n",
      "E05009301\n",
      "E05009303\n",
      "E05009306\n",
      "E05009307\n",
      "E05009312\n",
      "E05011090\n"
     ]
    }
   ],
   "source": [
    "areas = []\n",
    "for i in options[\"code\"]:\n",
    "    try:\n",
    "        areas.append(json.load(open(f'/Users/theojolliffe/Documents/Census Data/census-data-main/json/place/{i}.json', 'rb')))\n",
    "    except FileNotFoundError:\n",
    "        print(i)\n",
    "        pass\n",
    "    \n",
    "for area in areas:\n",
    "    area['data']['agemed']['value']['change']['all'] = area['data']['agemed']['value']['2011']['all']-area['data']['agemed']['value']['2001']['all']"
   ]
  },
  {
   "cell_type": "code",
   "execution_count": 122,
   "id": "cfc395f5-e54a-4533-b6a8-9b482632b33c",
   "metadata": {
    "tags": []
   },
   "outputs": [],
   "source": [
    "# Seperate the areas by area type\n",
    "regions = []\n",
    "for i in areas:\n",
    "    if i['type']=='rgn':\n",
    "        regions.append(i)\n",
    "        \n",
    "lads = []\n",
    "for i in areas:\n",
    "    if i['type']=='lad':\n",
    "        lads.append(i)\n",
    "        \n",
    "countries = []\n",
    "for i in areas:\n",
    "    if (i['type']=='ew')|(i['type']=='ctry'):\n",
    "        countries.append(i)"
   ]
  },
  {
   "cell_type": "code",
   "execution_count": 123,
   "id": "c06daf46-f8d7-463e-9baa-448dae6405a6",
   "metadata": {},
   "outputs": [],
   "source": [
    "# Find each LAD local and national ranks and put in prioirity order\n",
    "for thisLad in lads:\n",
    "    \n",
    "    # Empty array will be populted with ranks for each variable\n",
    "    ranks = []\n",
    "\n",
    "    # Filter areas with same parent\n",
    "    sister_lads = []\n",
    "    lad_code = thisLad['parents'][0]['code']\n",
    "    for i in range(len(lads)):\n",
    "        if  lad_code == lads[i]['parents'][0]['code']:\n",
    "            sister_lads.append(lads[i])\n",
    "\n",
    "    # Loop through the various data variables\n",
    "    for a in thisLad['data']:\n",
    "        if a in ['population', 'density', 'agemed']:\n",
    "            b = 'value'\n",
    "        else:\n",
    "            b = 'perc'\n",
    "        # Create nested object with localised rank\n",
    "        thisLad['data'][a][b+\"_rank_local\"] = {}    \n",
    "        for c in ['2011', 'change']:\n",
    "            thisLad['data'][a][b+\"_rank_local\"][c] = {}\n",
    "            for d in thisLad['data'][a][b][c]:\n",
    "                vari = thisLad['data'][a][b][c][d]\n",
    "\n",
    "                # Create sorted list of values from sister areas\n",
    "                group_values = []\n",
    "                for lad in sister_lads:\n",
    "                    group_values.append(lad['data'][a][b][c][d])\n",
    "                    group_values = [x if (type(x) == float) | (type(x) == int) else np.nan for x in group_values]\n",
    "                group_values.sort(reverse=True)\n",
    "\n",
    "                # Find index of value of area of interest\n",
    "                varRank = group_values.index(vari) + 1\n",
    "\n",
    "                # Convert bottom half rankings into negative values\n",
    "                if varRank>len(group_values)/2:\n",
    "                    varRank = varRank-len(group_values)-1\n",
    "                    \n",
    "                natRank = thisLad['data'][a][b+\"_rank\"][c][d]\n",
    "                if natRank > 168:\n",
    "                    natRank = natRank-336-1\n",
    "\n",
    "                thisLad['data'][a][b+\"_rank_local\"][c][d] = varRank\n",
    "\n",
    "                # Append ranking data to original array\n",
    "                ranks.append({\n",
    "                    'label': a+'_'+b+'_'+c+'_'+d, \n",
    "                    'locRank': varRank, \n",
    "                    'natRank': natRank, \n",
    "                    'value': vari})\n",
    "\n",
    "    # Sort in rank order\n",
    "    ranks = sorted(ranks, key=lambda x: (abs(x['locRank']), -abs(x['value'])))\n",
    "    thisLad[\"Priorities\"] = ranks"
   ]
  },
  {
   "cell_type": "code",
   "execution_count": 124,
   "id": "27663250-5802-421e-b0ab-bb731af6224f",
   "metadata": {},
   "outputs": [],
   "source": [
    "topics = [{1: 'population', 2: 'value', 3: 'all'}, \n",
    "          {1: 'health', 2: 'perc', 3: 'good'},\n",
    "          {1: 'travel', 2: 'perc', 3: 'car_van'},\n",
    "          {1: 'agemed', 2: 'value', 3: 'all'},\n",
    "          {1: 'economic', 2: 'perc', 3: 'employee'},\n",
    "          {1: 'health', 2: 'perc', 3: 'bad'},\n",
    "          {1: 'ethnicity', 2: 'perc', 3: 'black'},\n",
    "          {1: 'economic', 2: 'perc', 3: 'student'},\n",
    "          {1: 'economic', 2: 'perc', 3: 'self-employed'}]\n",
    "\n",
    "ladCodes = []\n",
    "for lad in lads:\n",
    "    ladCodes.append(lad['code'])\n",
    "    \n",
    "    \n",
    "df = pd.DataFrame(columns=\n",
    "                  ['lad', '2001',  '2011',  'change', 'natRank', 'localRank', 'topic', 'parent'])\n",
    "for j in range(len(topics)):\n",
    "    df1 = pd.DataFrame(index=ladCodes, columns=\n",
    "                      ['lad', '2001',  '2011',  'change', 'natRank', 'localRank', 'topic', 'parent'])\n",
    "    for i in range(len(lads)):\n",
    "        df1['lad'].iloc[i] = lads[i]['name']\n",
    "        df1['2001'].iloc[i] = lads[i]['data'][topics[j][1]][topics[j][2]]['2001'][topics[j][3]]\n",
    "        df1['2011'].iloc[i] = lads[i]['data'][topics[j][1]][topics[j][2]]['2011'][topics[j][3]]    \n",
    "        df1['change'].iloc[i] = lads[i]['data'][topics[j][1]][topics[j][2]]['change'][topics[j][3]]\n",
    "        df1['natRank'].iloc[i] = lads[i]['data'][topics[j][1]][topics[j][2]+\"_rank\"]['change'][topics[j][3]]    \n",
    "        df1['localRank'].iloc[i] = lads[i]['data'][topics[j][1]][topics[j][2]+\"_rank_local\"]['change'][topics[j][3]]    \n",
    "        df1['topic'].iloc[i] = topics[j][1]+\"_\"+topics[j][3]\n",
    "        df1['parent'].iloc[i] = lads[i]['parents'][0]['name']\n",
    "    df = pd.concat([df,df1])\n",
    "df['natRank'] = np.where(df['natRank'] > 168, df['natRank']-337,df['natRank'])\n",
    "\n",
    "\n",
    "\n",
    "for topic in topics:\n",
    "    for lad in lads:\n",
    "        \n",
    "#       Find the areas that this area has overtaken\n",
    "        v2001 = lad['data'][topic[1]][topic[2]]['2001'][topic[3]]\n",
    "        v2011 = lad['data'][topic[1]][topic[2]]['2011'][topic[3]]\n",
    "        dfT = df[(df['topic']==topic[1]+\"_\"+topic[3])&(df['2001']>v2001)&(df['2011']<v2011)]\n",
    "        obje = []\n",
    "        for i in range(dfT.shape[0]):\n",
    "            obje.append(dfT.iloc[i]['lad'])\n",
    "\n",
    "        lad['data'][topic[1]][topic[2]+\"_rank\"]['overtake'] = {}\n",
    "        lad['data'][topic[1]][topic[2]+\"_rank\"]['overtake'][topic[3]] = obje\n",
    "        \n",
    "#       Find the area immediatly above or below\n",
    "        below = lad['data'][topic[1]][topic[2]+'_rank_local']['2011'][topic[3]]\n",
    "        above = lad['data'][topic[1]][topic[2]+'_rank_local']['2011'][topic[3]]-2\n",
    "        if below<0:\n",
    "            below=below+1\n",
    "            above=above+1\n",
    "        reg = lad['parents'][0]['name']\n",
    "        name_above = df[(df['parent']==reg)&(df['topic']==topic[1]+\"_\"+topic[3])].sort_values('2011', ascending=False).iloc[above]['lad']\n",
    "        name_below = df[(df['parent']==reg)&(df['topic']==topic[1]+\"_\"+topic[3])].sort_values('2011', ascending=False).iloc[below]['lad']\n",
    "        if above>0:\n",
    "            area_above = {'name': name_above,\n",
    "                         'value': df[(df['lad']==name_above)&(df['topic']==topic[1]+\"_\"+topic[3])]['2011'].iloc[0]}\n",
    "        else:\n",
    "            area_above = 'NaN'\n",
    "        if below<len(df[(df['parent']==reg)&(df['topic']==topic[1]+\"_\"+topic[3])]):\n",
    "            area_below = {'name': name_below,\n",
    "                          'value': df[(df['lad']==name_below)&(df['topic']==topic[1]+\"_\"+topic[3])]['2011'].iloc[0]}\n",
    "        else:\n",
    "            area_below = 'NaN'\n",
    "        \n",
    "        if 'above_below' not in lad['data'][topic[1]][topic[2]+'_rank_local'].keys():\n",
    "            lad['data'][topic[1]][topic[2]+'_rank_local']['above_below'] = {}\n",
    "\n",
    "        if topic[3] not in lad['data'][topic[1]][topic[2]+'_rank_local']['above_below'].keys():\n",
    "            lad['data'][topic[1]][topic[2]+'_rank_local']['above_below'][topic[3]] = {}\n",
    "        \n",
    "        lad['data'][topic[1]][topic[2]+'_rank_local']['above_below'][topic[3]][\"above\"] = area_above\n",
    "        lad['data'][topic[1]][topic[2]+'_rank_local']['above_below'][topic[3]][\"below\"] = area_below\n",
    "            \n",
    "        # Add top and bottom three biggest movers for each subject to every area\n",
    "        df_topic = df[(df['topic']==topic[1]+\"_\"+topic[3])&(abs(df['natRank'])<4)]\n",
    "        ob = {}\n",
    "        for index, row in df_topic.iterrows():\n",
    "            ob[row['natRank']]= {row['lad']: row['change']}\n",
    "        if 'top_bottom' not in lad['data'][topic[1]][topic[2]+'_rank'].keys():\n",
    "            lad['data'][topic[1]][topic[2]+'_rank']['top_bottom'] = {}\n",
    "        lad['data'][topic[1]][topic[2]+'_rank']['top_bottom'][topic[3]]=ob"
   ]
  },
  {
   "cell_type": "code",
   "execution_count": 250,
   "id": "ade162c7-2be8-427d-9977-a254fff64c9f",
   "metadata": {},
   "outputs": [
    {
     "name": "stdout",
     "output_type": "stream",
     "text": [
      "City of London\n",
      "Hackney\n",
      "Hammersmith and Fulham\n",
      "Haringey\n",
      "Islington\n",
      "Kensington and Chelsea\n",
      "Lambeth\n",
      "Southwark\n",
      "Tower Hamlets\n",
      "Wandsworth\n",
      "Westminster\n"
     ]
    }
   ],
   "source": [
    "# Create triple data for areas of closest proximity\n",
    "geogTriples = []\n",
    "for lad in lads:\n",
    "    list1 = lad['bounds'][0]+lad['bounds'][1]\n",
    "    for lad2 in lads:\n",
    "        list2 = lad2['bounds'][0]+lad2['bounds'][1]\n",
    "        listDif = [abs(list1[i]-list2[i]) for i in [0,1,2,3]]\n",
    "        listDif.sort()\n",
    "        if (sum(listDif[:3]) < 0.3) & (lad!=lad2):\n",
    "            geogTriples.append([lad['name'], lad2['name'], (\"near\", round(sum(listDif[:3]), 2))])\n",
    "        \n",
    "nearSimilar = []\n",
    "# Find nearby area of same area type\n",
    "for i in geogTriples:\n",
    "    try:\n",
    "        if ((i[0]==\"Camden\")&(typeLookup[i[1]]==typeLookup[\"Camden\"])):\n",
    "            nearSimilar.append([i[0], i[1], ('near_similar', i[2][1])])\n",
    "            print(i[1])\n",
    "    except:\n",
    "        pass\n",
    "    \n",
    "if len(nearSimilar)==0:\n",
    "    nearSimilar = [i for i in geogTriples if i[0]==\"Camden\"]\n",
    "    print(nearSimilar)\n",
    "    \n",
    "nearSimilar = sorted(nearSimilar, key=lambda x: x[2][1])"
   ]
  },
  {
   "cell_type": "code",
   "execution_count": 251,
   "id": "7d208c20-9306-4fd1-bd5f-b330de3b65b0",
   "metadata": {},
   "outputs": [
    {
     "data": {
      "text/plain": [
       "[['Camden', 'Islington', ('near_similar', 0.04)],\n",
       " ['Camden', 'Westminster', ('near_similar', 0.04)],\n",
       " ['Camden', 'City of London', ('near_similar', 0.09)],\n",
       " ['Camden', 'Kensington and Chelsea', ('near_similar', 0.09)],\n",
       " ['Camden', 'Hackney', ('near_similar', 0.1)],\n",
       " ['Camden', 'Hammersmith and Fulham', ('near_similar', 0.13)],\n",
       " ['Camden', 'Haringey', ('near_similar', 0.13)],\n",
       " ['Camden', 'Lambeth', ('near_similar', 0.15)],\n",
       " ['Camden', 'Wandsworth', ('near_similar', 0.15)],\n",
       " ['Camden', 'Tower Hamlets', ('near_similar', 0.17)],\n",
       " ['Camden', 'Southwark', ('near_similar', 0.23)]]"
      ]
     },
     "execution_count": 251,
     "metadata": {},
     "output_type": "execute_result"
    }
   ],
   "source": [
    "nearSimilar"
   ]
  },
  {
   "cell_type": "code",
   "execution_count": 222,
   "id": "321d1d0d-35c5-4af9-92ec-92a4bb085225",
   "metadata": {},
   "outputs": [],
   "source": [
    "# Filter out priority list by subject\n",
    "for lad in lads:\n",
    "    subjectList = [\"fair\", \"rent_free\", \"shared_ownership\", \"bicycle\", \"taxi\", \"moto\", \"bus\", \"other\", \"female\", \"male\"]\n",
    "    priorities = []\n",
    "    priorities2011 = []\n",
    "    for rank in lad['Priorities']:\n",
    "        s=rank['label'].split(\"_\")\n",
    "        if len(s)>4:\n",
    "            s[3] = s[3] + \"_\" + s[4]\n",
    "        if ((s[2] == \"change\") & (s[3] not in subjectList)):\n",
    "            priorities.append(rank)\n",
    "        if (s[2]!=\"change\"):\n",
    "            priorities2011.append(rank)\n",
    "    lad['pri'] = priorities\n",
    "    lad['pri2011'] = priorities2011"
   ]
  },
  {
   "cell_type": "code",
   "execution_count": 165,
   "id": "15f1f40a-859f-4ede-a5d5-a7f147e438cb",
   "metadata": {},
   "outputs": [],
   "source": [
    "camden = [lad for lad in lads if lad['name']==\"Camden\"][0]"
   ]
  },
  {
   "cell_type": "code",
   "execution_count": 171,
   "id": "06327e75-ace4-4962-ab59-b9daa6ac5340",
   "metadata": {},
   "outputs": [],
   "source": [
    "stories = []\n",
    "stories=stories+[i for i in camden['pri'] if abs(i['locRank']) <= 5]\n",
    "stories=stories+[i for i in camden['pri'] if abs(i['natRank']) <= 10]"
   ]
  },
  {
   "cell_type": "code",
   "execution_count": 167,
   "id": "60f08a2e-2553-48a1-8e2c-3e71421487ce",
   "metadata": {},
   "outputs": [
    {
     "data": {
      "text/plain": [
       "[{'label': 'travel_perc_change_train_metro',\n",
       "  'locRank': -3,\n",
       "  'natRank': -3,\n",
       "  'value': -18.18},\n",
       " {'label': 'health_perc_change_good',\n",
       "  'locRank': -12,\n",
       "  'natRank': 122,\n",
       "  'value': 12.7},\n",
       " {'label': 'population_value_change_all',\n",
       "  'locRank': -13,\n",
       "  'natRank': 62,\n",
       "  'value': 11.27},\n",
       " {'label': 'density_value_change_all',\n",
       "  'locRank': -13,\n",
       "  'natRank': 61,\n",
       "  'value': 11.27},\n",
       " {'label': 'travel_perc_change_foot',\n",
       "  'locRank': 4,\n",
       "  'natRank': 5,\n",
       "  'value': 9.58},\n",
       " {'label': 'tenure_perc_change_rented_private',\n",
       "  'locRank': -7,\n",
       "  'natRank': 100,\n",
       "  'value': 7.12},\n",
       " {'label': 'ethnicity_perc_change_white',\n",
       "  'locRank': 8,\n",
       "  'natRank': -63,\n",
       "  'value': -6.85},\n",
       " {'label': 'travel_perc_change_car_van',\n",
       "  'locRank': 3,\n",
       "  'natRank': -66,\n",
       "  'value': -4.95}]"
      ]
     },
     "execution_count": 167,
     "metadata": {},
     "output_type": "execute_result"
    }
   ],
   "source": [
    "change = sorted(camden['pri'], reverse=True, key=lambda x: abs(x['value']))\n",
    "bigchange = [i for i in change if abs(i['value'])>4.5]\n",
    "bigchange"
   ]
  },
  {
   "cell_type": "code",
   "execution_count": 168,
   "id": "7c9aa5a7-ae16-43b3-9057-f0d5faf0f69d",
   "metadata": {},
   "outputs": [],
   "source": [
    "for i in range(len(bigchange)):\n",
    "    if len(stories)<4:\n",
    "        stories=stories+[bigchange[i]]"
   ]
  },
  {
   "cell_type": "code",
   "execution_count": 169,
   "id": "a7f3be04-7ab8-48b8-9d1e-330178bf245e",
   "metadata": {},
   "outputs": [
    {
     "data": {
      "text/plain": [
       "[{'label': 'ethnicity_perc_change_black',\n",
       "  'locRank': -6,\n",
       "  'natRank': -6,\n",
       "  'value': -0.12},\n",
       " {'label': 'age10yr_perc_change_10-19',\n",
       "  'locRank': 14,\n",
       "  'natRank': 83,\n",
       "  'value': -0.17},\n",
       " {'label': 'age10yr_perc_change_0-9',\n",
       "  'locRank': -12,\n",
       "  'natRank': 78,\n",
       "  'value': -0.2},\n",
       " {'label': 'age10yr_perc_change_70plus',\n",
       "  'locRank': 5,\n",
       "  'natRank': -94,\n",
       "  'value': -0.22},\n",
       " {'label': 'age10yr_perc_change_30-39',\n",
       "  'locRank': 12,\n",
       "  'natRank': 19,\n",
       "  'value': -0.25},\n",
       " {'label': 'economic_perc_change_unemployed',\n",
       "  'locRank': -2,\n",
       "  'natRank': -4,\n",
       "  'value': -0.48},\n",
       " {'label': 'age10yr_perc_change_50-59',\n",
       "  'locRank': -8,\n",
       "  'natRank': 166,\n",
       "  'value': -0.56},\n",
       " {'label': 'economic_perc_change_student',\n",
       "  'locRank': -8,\n",
       "  'natRank': 149,\n",
       "  'value': 0.61},\n",
       " {'label': 'age10yr_perc_change_20-29',\n",
       "  'locRank': -4,\n",
       "  'natRank': -15,\n",
       "  'value': -0.93}]"
      ]
     },
     "execution_count": 169,
     "metadata": {},
     "output_type": "execute_result"
    }
   ],
   "source": [
    "smallchange = sorted([i for i in change if abs(i['value'])<1], reverse=False, key=lambda x: abs(x['value']))\n",
    "smallchange"
   ]
  },
  {
   "cell_type": "code",
   "execution_count": 133,
   "id": "5e7bf543-1c4f-4767-a47e-66b713b05590",
   "metadata": {},
   "outputs": [],
   "source": [
    "for i in range(len(smallchange)):\n",
    "    if len(stories)<5:\n",
    "        stories=stories+[smallchange[i]]"
   ]
  },
  {
   "cell_type": "code",
   "execution_count": null,
   "id": "1c30dd19-2752-49f8-b313-8779be3bb685",
   "metadata": {},
   "outputs": [],
   "source": []
  },
  {
   "cell_type": "code",
   "execution_count": 194,
   "id": "20cfc7d5-8b7a-496e-a204-1e981a5c229a",
   "metadata": {},
   "outputs": [
    {
     "data": {
      "text/plain": [
       "[('all', 22282),\n",
       " ('40-49', 5327),\n",
       " ('60-69', 3936),\n",
       " ('30-39', 3909),\n",
       " ('20-29', 2976),\n",
       " ('0-9', 2046),\n",
       " ('10-19', 1895),\n",
       " ('70plus', 1243),\n",
       " ('50-59', 950)]"
      ]
     },
     "execution_count": 194,
     "metadata": {},
     "output_type": "execute_result"
    }
   ],
   "source": [
    "sorted([(i, camden['data']['age10yr']['value']['2011'][i]-camden['data']['age10yr']['value']['2001'][i]) for i in camden['data']['age10yr']['value']['2001'].keys()], \n",
    "       reverse=True, key=lambda x: x[1])"
   ]
  },
  {
   "cell_type": "code",
   "execution_count": 245,
   "id": "a5e4b677-4dc6-488c-9cb6-593530b44d8d",
   "metadata": {},
   "outputs": [
    {
     "data": {
      "text/plain": [
       "{'bad': 5.6, 'fair': 10.42, 'good': 83.97}"
      ]
     },
     "execution_count": 245,
     "metadata": {},
     "output_type": "execute_result"
    }
   ],
   "source": [
    "camden['data']['health']['perc']['2011']"
   ]
  },
  {
   "cell_type": "code",
   "execution_count": 136,
   "id": "1895e085-1736-4c7f-bb12-ab1a0ba712a4",
   "metadata": {},
   "outputs": [
    {
     "data": {
      "text/plain": [
       "{'all': 206125, 'female': 104720, 'male': 101405}"
      ]
     },
     "execution_count": 136,
     "metadata": {},
     "output_type": "execute_result"
    }
   ],
   "source": [
    "nearSimilarData['data']['population']['value']['2011']"
   ]
  },
  {
   "cell_type": "code",
   "execution_count": 246,
   "id": "f9d33f2f-b1a4-4271-97f8-3b08fc07c9b4",
   "metadata": {},
   "outputs": [
    {
     "data": {
      "text/plain": [
       "{'bad': 4.96, 'fair': 11.19, 'good': 83.84}"
      ]
     },
     "execution_count": 246,
     "metadata": {},
     "output_type": "execute_result"
    }
   ],
   "source": [
    "london['data']['health']['perc']['2011']"
   ]
  },
  {
   "cell_type": "code",
   "execution_count": 244,
   "id": "53d454b0-71df-4065-8e79-f8fb3178f051",
   "metadata": {},
   "outputs": [
    {
     "data": {
      "text/plain": [
       "{'bad': 5.49, 'fair': 13.12, 'good': 81.39}"
      ]
     },
     "execution_count": 244,
     "metadata": {},
     "output_type": "execute_result"
    }
   ],
   "source": [
    "countries[1]['data']['health']['perc']['2011']"
   ]
  },
  {
   "cell_type": "code",
   "execution_count": 172,
   "id": "6f0208f9-05a1-4a18-9aca-c53da3886ab3",
   "metadata": {},
   "outputs": [
    {
     "data": {
      "text/plain": [
       "[{'label': 'agemed_value_change_all',\n",
       "  'locRank': 1,\n",
       "  'natRank': 94,\n",
       "  'value': 1.0},\n",
       " {'label': 'tenure_perc_change_owned',\n",
       "  'locRank': 2,\n",
       "  'natRank': 60,\n",
       "  'value': -2.54},\n",
       " {'label': 'economic_perc_change_unemployed',\n",
       "  'locRank': -2,\n",
       "  'natRank': -4,\n",
       "  'value': -0.48},\n",
       " {'label': 'travel_perc_change_train_metro',\n",
       "  'locRank': -3,\n",
       "  'natRank': -3,\n",
       "  'value': -18.18},\n",
       " {'label': 'travel_perc_change_car_van',\n",
       "  'locRank': 3,\n",
       "  'natRank': -66,\n",
       "  'value': -4.95},\n",
       " {'label': 'travel_perc_change_home',\n",
       "  'locRank': 3,\n",
       "  'natRank': 3,\n",
       "  'value': 3.91},\n",
       " {'label': 'travel_perc_change_foot',\n",
       "  'locRank': 4,\n",
       "  'natRank': 5,\n",
       "  'value': 9.58},\n",
       " {'label': 'age10yr_perc_change_20-29',\n",
       "  'locRank': -4,\n",
       "  'natRank': -15,\n",
       "  'value': -0.93},\n",
       " {'label': 'age10yr_perc_change_70plus',\n",
       "  'locRank': 5,\n",
       "  'natRank': -94,\n",
       "  'value': -0.22},\n",
       " {'label': 'economic_perc_change_unemployed',\n",
       "  'locRank': -2,\n",
       "  'natRank': -4,\n",
       "  'value': -0.48},\n",
       " {'label': 'travel_perc_change_train_metro',\n",
       "  'locRank': -3,\n",
       "  'natRank': -3,\n",
       "  'value': -18.18},\n",
       " {'label': 'travel_perc_change_home',\n",
       "  'locRank': 3,\n",
       "  'natRank': 3,\n",
       "  'value': 3.91},\n",
       " {'label': 'travel_perc_change_foot',\n",
       "  'locRank': 4,\n",
       "  'natRank': 5,\n",
       "  'value': 9.58},\n",
       " {'label': 'ethnicity_perc_change_black',\n",
       "  'locRank': -6,\n",
       "  'natRank': -6,\n",
       "  'value': -0.12}]"
      ]
     },
     "execution_count": 172,
     "metadata": {},
     "output_type": "execute_result"
    }
   ],
   "source": [
    "stories"
   ]
  },
  {
   "cell_type": "code",
   "execution_count": 223,
   "id": "5cfcfa16-0edc-4a2a-9678-07e32c80a9e2",
   "metadata": {},
   "outputs": [
    {
     "data": {
      "text/plain": [
       "[{'label': 'economic_perc_2011_employee',\n",
       "  'locRank': -2,\n",
       "  'natRank': -20,\n",
       "  'value': 46.41},\n",
       " {'label': 'economic_perc_2011_inactive',\n",
       "  'locRank': 3,\n",
       "  'natRank': 95,\n",
       "  'value': 31.89},\n",
       " {'label': 'travel_perc_2011_foot',\n",
       "  'locRank': 4,\n",
       "  'natRank': 30,\n",
       "  'value': 16.19},\n",
       " {'label': 'travel_perc_2011_car_van',\n",
       "  'locRank': -4,\n",
       "  'natRank': -4,\n",
       "  'value': 10.73},\n",
       " {'label': 'tenure_perc_2011_rent_free',\n",
       "  'locRank': 4,\n",
       "  'natRank': 32,\n",
       "  'value': 1.81},\n",
       " {'label': 'travel_perc_2011_other',\n",
       "  'locRank': 4,\n",
       "  'natRank': 20,\n",
       "  'value': 1.0},\n",
       " {'label': 'tenure_perc_2011_shared_ownership',\n",
       "  'locRank': -4,\n",
       "  'natRank': 151,\n",
       "  'value': 0.69},\n",
       " {'label': 'age10yr_perc_2011_40-49',\n",
       "  'locRank': -5,\n",
       "  'natRank': -24,\n",
       "  'value': 13.26},\n",
       " {'label': 'age10yr_perc_2011_0-9',\n",
       "  'locRank': -5,\n",
       "  'natRank': -127,\n",
       "  'value': 10.92},\n",
       " {'label': 'travel_perc_2011_home',\n",
       "  'locRank': 5,\n",
       "  'natRank': 54,\n",
       "  'value': 8.24},\n",
       " {'label': 'tenure_perc_2011_rented_private',\n",
       "  'locRank': 6,\n",
       "  'natRank': 6,\n",
       "  'value': 32.23},\n",
       " {'label': 'tenure_perc_2011_owned',\n",
       "  'locRank': -6,\n",
       "  'natRank': -6,\n",
       "  'value': 32.16},\n",
       " {'label': 'economic_perc_2011_self-employed',\n",
       "  'locRank': 6,\n",
       "  'natRank': 42,\n",
       "  'value': 13.41},\n",
       " {'label': 'density_value_2011_all',\n",
       "  'locRank': 8,\n",
       "  'natRank': 8,\n",
       "  'value': 101.09},\n",
       " {'label': 'tenure_perc_2011_rented_social',\n",
       "  'locRank': 8,\n",
       "  'natRank': 8,\n",
       "  'value': 33.11},\n",
       " {'label': 'age10yr_perc_2011_10-19',\n",
       "  'locRank': -8,\n",
       "  'natRank': -9,\n",
       "  'value': 10.04},\n",
       " {'label': 'age10yr_perc_2011_50-59',\n",
       "  'locRank': -8,\n",
       "  'natRank': -11,\n",
       "  'value': 9.22},\n",
       " {'label': 'travel_perc_2011_bicycle',\n",
       "  'locRank': 8,\n",
       "  'natRank': 20,\n",
       "  'value': 6.49},\n",
       " {'label': 'health_perc_2011_bad', 'locRank': 8, 'natRank': 136, 'value': 5.6},\n",
       " {'label': 'travel_perc_2011_taxi',\n",
       "  'locRank': 8,\n",
       "  'natRank': 58,\n",
       "  'value': 0.71},\n",
       " {'label': 'age10yr_perc_2011_20-29',\n",
       "  'locRank': 9,\n",
       "  'natRank': 13,\n",
       "  'value': 21.69},\n",
       " {'label': 'ethnicity_perc_2011_mixed',\n",
       "  'locRank': 9,\n",
       "  'natRank': 10,\n",
       "  'value': 5.59},\n",
       " {'label': 'population_value_2011_male',\n",
       "  'locRank': -10,\n",
       "  'natRank': 78,\n",
       "  'value': 107885},\n",
       " {'label': 'travel_perc_2011_train_metro',\n",
       "  'locRank': 10,\n",
       "  'natRank': 10,\n",
       "  'value': 40.74},\n",
       " {'label': 'travel_perc_2011_bus',\n",
       "  'locRank': 10,\n",
       "  'natRank': 17,\n",
       "  'value': 14.75},\n",
       " {'label': 'health_perc_2011_fair',\n",
       "  'locRank': -10,\n",
       "  'natRank': -22,\n",
       "  'value': 10.42},\n",
       " {'label': 'population_value_2011_all',\n",
       "  'locRank': -11,\n",
       "  'natRank': 77,\n",
       "  'value': 220338},\n",
       " {'label': 'population_value_2011_female',\n",
       "  'locRank': -11,\n",
       "  'natRank': 77,\n",
       "  'value': 112453},\n",
       " {'label': 'age10yr_perc_2011_30-39',\n",
       "  'locRank': 11,\n",
       "  'natRank': 11,\n",
       "  'value': 19.79},\n",
       " {'label': 'ethnicity_perc_2011_other',\n",
       "  'locRank': 11,\n",
       "  'natRank': 11,\n",
       "  'value': 3.84},\n",
       " {'label': 'ethnicity_perc_2011_white',\n",
       "  'locRank': 12,\n",
       "  'natRank': -26,\n",
       "  'value': 66.29},\n",
       " {'label': 'agemed_value_2011_all',\n",
       "  'locRank': 12,\n",
       "  'natRank': -40,\n",
       "  'value': 35.0},\n",
       " {'label': 'ethnicity_perc_2011_black',\n",
       "  'locRank': -13,\n",
       "  'natRank': 25,\n",
       "  'value': 8.2},\n",
       " {'label': 'economic_perc_2011_unemployed',\n",
       "  'locRank': -13,\n",
       "  'natRank': 117,\n",
       "  'value': 4.46},\n",
       " {'label': 'travel_perc_2011_moto',\n",
       "  'locRank': 13,\n",
       "  'natRank': 33,\n",
       "  'value': 1.14},\n",
       " {'label': 'ethnicity_perc_2011_asian',\n",
       "  'locRank': 14,\n",
       "  'natRank': 28,\n",
       "  'value': 16.09},\n",
       " {'label': 'age10yr_perc_2011_70plus',\n",
       "  'locRank': -15,\n",
       "  'natRank': -18,\n",
       "  'value': 7.57},\n",
       " {'label': 'health_perc_2011_good',\n",
       "  'locRank': 16,\n",
       "  'natRank': 75,\n",
       "  'value': 83.97},\n",
       " {'label': 'age10yr_perc_2011_60-69',\n",
       "  'locRank': 16,\n",
       "  'natRank': -26,\n",
       "  'value': 7.52},\n",
       " {'label': 'economic_perc_2011_student',\n",
       "  'locRank': 16,\n",
       "  'natRank': 64,\n",
       "  'value': 3.83}]"
      ]
     },
     "execution_count": 223,
     "metadata": {},
     "output_type": "execute_result"
    }
   ],
   "source": [
    "camden['pri2011']"
   ]
  },
  {
   "cell_type": "code",
   "execution_count": 156,
   "id": "934a1051-a32e-4763-9f71-258fe5ace85a",
   "metadata": {},
   "outputs": [],
   "source": [
    "london=[i for i in regions if i['name']==\"London\"][0]"
   ]
  },
  {
   "cell_type": "code",
   "execution_count": 81,
   "id": "d9ef4ef4-aafd-493e-9c85-30ae103599f6",
   "metadata": {},
   "outputs": [
    {
     "data": {
      "text/plain": [
       "[('travel_perc_change_train_metro', -19.8),\n",
       " ('travel_perc_change_foot', 8.15),\n",
       " ('travel_perc_change_home', 6.35),\n",
       " ('agemed_value_change_all', 5.8),\n",
       " ('tenure_perc_change_owned', 5.18),\n",
       " ('ethnicity_perc_change_white', 4.51),\n",
       " ('population_value_change_all', -2.700000000000001),\n",
       " ('tenure_perc_change_rented_private', -2.62),\n",
       " ('ethnicity_perc_change_black', -2.52),\n",
       " ('tenure_perc_change_rented_social', -2.1300000000000003),\n",
       " ('economic_perc_change_employee', 1.77),\n",
       " ('travel_perc_change_car_van', 1.7199999999999998),\n",
       " ('economic_perc_change_unemployed', -1.33),\n",
       " ('ethnicity_perc_change_asian', -1.29),\n",
       " ('economic_perc_change_inactive', 0.8400000000000003),\n",
       " ('economic_perc_change_self-employed', -0.7800000000000002),\n",
       " ('economic_perc_change_student', -0.4900000000000001),\n",
       " ('health_perc_change_good', -0.3200000000000003),\n",
       " ('health_perc_change_bad', -0.20999999999999996),\n",
       " ('ethnicity_perc_change_mixed', 0.020000000000000018)]"
      ]
     },
     "execution_count": 81,
     "metadata": {},
     "output_type": "execute_result"
    }
   ],
   "source": [
    "def reg(i):\n",
    "    s=i['label'].split(\"_\")\n",
    "    if len(s)>4:\n",
    "        s[3] = s[3] + \"_\" + s[4]\n",
    "    region=[i for i in regions if i['name']==camden['parents'][0]['name']][0]\n",
    "    return region['data'][s[0]][s[1]][s[2]][s[3]]\n",
    "regDiff = [(i['label'], i['value']-reg(i)) for i in change]\n",
    "sorted(regDiff, reverse=True, key=lambda x: abs(x[1]))"
   ]
  },
  {
   "cell_type": "code",
   "execution_count": 83,
   "id": "e0c2a1a6-e8e4-4c7b-bb0d-372d76706cb3",
   "metadata": {},
   "outputs": [
    {
     "data": {
      "text/plain": [
       "[('travel_perc_change_train_metro', -20.22),\n",
       " ('travel_perc_change_foot', 8.81),\n",
       " ('travel_perc_change_home', 7.73),\n",
       " ('travel_perc_change_car_van', -5.87),\n",
       " ('population_value_change_all', 3.3899999999999997),\n",
       " ('tenure_perc_change_rented_social', -2.5700000000000003),\n",
       " ('tenure_perc_change_owned', 2.3899999999999997),\n",
       " ('economic_perc_change_employee', 1.53),\n",
       " ('economic_perc_change_unemployed', -1.51),\n",
       " ('ethnicity_perc_change_white', -1.3399999999999999),\n",
       " ('ethnicity_perc_change_black', -1.2999999999999998),\n",
       " ('ethnicity_perc_change_asian', 1.2000000000000002),\n",
       " ('ethnicity_perc_change_mixed', 0.8800000000000001),\n",
       " ('economic_perc_change_self-employed', 0.45999999999999996),\n",
       " ('economic_perc_change_student', -0.25),\n",
       " ('agemed_value_change_all', 0.23999999999999977),\n",
       " ('economic_perc_change_inactive', -0.22999999999999998),\n",
       " ('tenure_perc_change_rented_private', 0.16999999999999993),\n",
       " ('health_perc_change_good', 0.06999999999999851),\n",
       " ('health_perc_change_bad', 0.010000000000000231)]"
      ]
     },
     "execution_count": 83,
     "metadata": {},
     "output_type": "execute_result"
    }
   ],
   "source": [
    "def cou(i):\n",
    "    s=i['label'].split(\"_\")\n",
    "    if len(s)>4:\n",
    "        s[3] = s[3] + \"_\" + s[4]\n",
    "    return countries[1]['data'][s[0]][s[1]][s[2]][s[3]]\n",
    "couDiff = [(i['label'], i['value']-cou(i)) for i in change]\n",
    "sorted(couDiff, reverse=True, key=lambda x: abs(x[1]))"
   ]
  },
  {
   "cell_type": "code",
   "execution_count": 92,
   "id": "1f96828e-9b23-4e06-a822-cb6b3cf775cd",
   "metadata": {
    "tags": []
   },
   "outputs": [
    {
     "name": "stdout",
     "output_type": "stream",
     "text": [
      "Camden  population:  220338\n",
      "Islington  population:  206125\n",
      "Difference:  14213 ,  6 %\n"
     ]
    }
   ],
   "source": [
    "nearSimilarData = [lad for lad in lads if lad['name']==nearSimilar[0][1]][0]\n",
    "print(camden['name'], \" population: \", camden['data']['population']['value']['2011']['all'])\n",
    "print(nearSimilarData['name'], \" population: \", nearSimilarData['data']['population']['value']['2011']['all'])\n",
    "difference = camden['data']['population']['value']['2011']['all']- nearSimilarData['data']['population']['value']['2011']['all']\n",
    "print(\"Difference: \", difference, \", \", round(100*difference/camden['data']['population']['value']['2011']['all']), \"%\")"
   ]
  },
  {
   "cell_type": "code",
   "execution_count": 93,
   "id": "a88ec4df-0e19-4b37-9ec7-ce1b8566b264",
   "metadata": {},
   "outputs": [
    {
     "data": {
      "text/plain": [
       "[('travel_perc_change_car_van', 6.1000000000000005),\n",
       " ('agemed_value_change_all', 5.88),\n",
       " ('population_value_change_all', -5.809999999999999),\n",
       " ('tenure_perc_change_rented_private', -3.2800000000000002),\n",
       " ('travel_perc_change_home', 3.23),\n",
       " ('travel_perc_change_train_metro', -3.209999999999999),\n",
       " ('tenure_perc_change_rented_social', 2.6399999999999997),\n",
       " ('economic_perc_change_inactive', 2.5500000000000003),\n",
       " ('economic_perc_change_employee', -2.19),\n",
       " ('ethnicity_perc_change_asian', 1.8900000000000001),\n",
       " ('health_perc_change_good', -1.6600000000000001),\n",
       " ('travel_perc_change_foot', 1.25),\n",
       " ('ethnicity_perc_change_black', -1.03),\n",
       " ('tenure_perc_change_owned', 0.8799999999999999),\n",
       " ('health_perc_change_bad', 0.8199999999999998),\n",
       " ('ethnicity_perc_change_mixed', -0.55),\n",
       " ('ethnicity_perc_change_white', 0.35000000000000053),\n",
       " ('economic_perc_change_student', -0.20999999999999996),\n",
       " ('economic_perc_change_unemployed', -0.10999999999999999),\n",
       " ('economic_perc_change_self-employed', -0.050000000000000044)]"
      ]
     },
     "execution_count": 93,
     "metadata": {},
     "output_type": "execute_result"
    }
   ],
   "source": [
    "def near(i):\n",
    "    s=i['label'].split(\"_\")\n",
    "    if len(s)>4:\n",
    "        s[3] = s[3] + \"_\" + s[4]\n",
    "    return nearSimilarData['data'][s[0]][s[1]][s[2]][s[3]]\n",
    "nearDiff = [(i['label'], i['value']-near(i)) for i in change]\n",
    "sorted(nearDiff, reverse=True, key=lambda x: abs(x[1]))"
   ]
  },
  {
   "cell_type": "code",
   "execution_count": 95,
   "id": "6e5d0abc-2e1b-48d2-8d62-71fab92f470b",
   "metadata": {
    "tags": []
   },
   "outputs": [
    {
     "data": {
      "text/plain": [
       "[('City of London',\n",
       "  {'label': 'travel_perc_change_train_metro',\n",
       "   'locRank': -1,\n",
       "   'natRank': -1,\n",
       "   'value': -56.44}),\n",
       " ('Hackney',\n",
       "  {'label': 'ethnicity_perc_change_white',\n",
       "   'locRank': 1,\n",
       "   'natRank': -99,\n",
       "   'value': -4.73}),\n",
       " ('Haringey',\n",
       "  {'label': 'travel_perc_change_car_van',\n",
       "   'locRank': -1,\n",
       "   'natRank': -1,\n",
       "   'value': -25.96}),\n",
       " ('Kensington and Chelsea',\n",
       "  {'label': 'health_perc_change_good',\n",
       "   'locRank': -1,\n",
       "   'natRank': -24,\n",
       "   'value': 11.14}),\n",
       " ('Southwark',\n",
       "  {'label': 'tenure_perc_change_owned',\n",
       "   'locRank': 1,\n",
       "   'natRank': 33,\n",
       "   'value': -1.62}),\n",
       " ('Tower Hamlets',\n",
       "  {'label': 'population_value_change_all',\n",
       "   'locRank': 1,\n",
       "   'natRank': 1,\n",
       "   'value': 29.57}),\n",
       " ('Westminster',\n",
       "  {'label': 'travel_perc_change_car_van',\n",
       "   'locRank': 1,\n",
       "   'natRank': -98,\n",
       "   'value': -1.92}),\n",
       " ('Lambeth',\n",
       "  {'label': 'ethnicity_perc_change_mixed',\n",
       "   'locRank': 2,\n",
       "   'natRank': 3,\n",
       "   'value': 2.84}),\n",
       " ('Islington',\n",
       "  {'label': 'tenure_perc_change_rented_social',\n",
       "   'locRank': -3,\n",
       "   'natRank': -5,\n",
       "   'value': -6.67}),\n",
       " ('Wandsworth',\n",
       "  {'label': 'travel_perc_change_car_van',\n",
       "   'locRank': -4,\n",
       "   'natRank': -4,\n",
       "   'value': -23.12}),\n",
       " ('Hammersmith and Fulham',\n",
       "  {'label': 'agemed_value_change_all',\n",
       "   'locRank': 5,\n",
       "   'natRank': -107,\n",
       "   'value': 0.0})]"
      ]
     },
     "execution_count": 95,
     "metadata": {},
     "output_type": "execute_result"
    }
   ],
   "source": [
    "sorted([(lad['name'], lad['pri'][0]) for lad in lads if lad['name'] in [i[1] for i in nearSimilar if i[0]==\"Camden\"]], key=lambda x: abs(x[1]['locRank']))"
   ]
  },
  {
   "cell_type": "code",
   "execution_count": 195,
   "id": "74db9512-9faf-4016-be00-ce753e75978f",
   "metadata": {},
   "outputs": [],
   "source": [
    "equalAgeChange = [lad['name'] for \n",
    " lad in lads if (lad['parents'][0]['name'] == camden['parents'][0]['name']) \n",
    " & (lad['data']['agemed']['value']['change']['all']==camden['data']['agemed']['value']['change']['all'])]"
   ]
  },
  {
   "cell_type": "code",
   "execution_count": 196,
   "id": "0dcf15a0-723a-402b-b765-436bad56f466",
   "metadata": {},
   "outputs": [
    {
     "data": {
      "text/plain": [
       "4"
      ]
     },
     "execution_count": 196,
     "metadata": {},
     "output_type": "execute_result"
    }
   ],
   "source": [
    "len(equalAgeChange)"
   ]
  },
  {
   "cell_type": "code",
   "execution_count": null,
   "id": "e5fc7712-8e2f-4e11-b77c-f64fb75d8c58",
   "metadata": {},
   "outputs": [],
   "source": []
  }
 ],
 "metadata": {
  "kernelspec": {
   "display_name": "Python 3",
   "language": "python",
   "name": "python3"
  },
  "language_info": {
   "codemirror_mode": {
    "name": "ipython",
    "version": 3
   },
   "file_extension": ".py",
   "mimetype": "text/x-python",
   "name": "python",
   "nbconvert_exporter": "python",
   "pygments_lexer": "ipython3",
   "version": "3.8.8"
  }
 },
 "nbformat": 4,
 "nbformat_minor": 5
}
