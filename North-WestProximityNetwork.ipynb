{
 "cells": [
  {
   "cell_type": "code",
   "execution_count": 82,
   "id": "92de4717-1f96-4504-8144-84fbe9dad9e9",
   "metadata": {},
   "outputs": [],
   "source": [
    "import pandas as pd\n",
    "import numpy as np\n",
    "import json\n",
    "import math\n",
    "import networkx as nx"
   ]
  },
  {
   "cell_type": "code",
   "execution_count": 71,
   "id": "aaff1bd9-fa8e-4383-8559-fea7f6a4a744",
   "metadata": {},
   "outputs": [],
   "source": [
    "options = pd.read_csv('./csv/lists/places_2020.csv')"
   ]
  },
  {
   "cell_type": "code",
   "execution_count": 72,
   "id": "8934a67e-411f-4b71-89a8-b2cf98f037ec",
   "metadata": {},
   "outputs": [],
   "source": [
    "areas = []\n",
    "for i in options[\"code\"]:\n",
    "    try:\n",
    "        areas.append(json.load(open(f'/Users/theojolliffe/Documents/Census Data/census-data-main/json/place/{i}.json', 'rb')))\n",
    "    except FileNotFoundError:\n",
    "#         print(i)\n",
    "        pass"
   ]
  },
  {
   "cell_type": "code",
   "execution_count": 73,
   "id": "144b5a6f-e03f-4e1b-b428-861d1533b4bc",
   "metadata": {},
   "outputs": [],
   "source": [
    "lads = []\n",
    "for i in areas:\n",
    "    if i['type']=='lad':\n",
    "        lads.append(i)"
   ]
  },
  {
   "cell_type": "code",
   "execution_count": 97,
   "id": "74c6f4e7-9a75-44a3-b79a-31e4567d4abb",
   "metadata": {},
   "outputs": [],
   "source": [
    "# instantiate our graph object\n",
    "G = nx.Graph()"
   ]
  },
  {
   "cell_type": "code",
   "execution_count": 109,
   "id": "a9f8cb7c-656e-4e76-ba1a-4d749f800b6a",
   "metadata": {},
   "outputs": [],
   "source": [
    "ladsNorthWest = []\n",
    "for lad in lads:\n",
    "    if (lad['parents'][0]['name'] == 'North West') & (lad['data']['population']['value']['2011']['all']>100000):\n",
    "        ladsNorthWest.append(lad)"
   ]
  },
  {
   "cell_type": "code",
   "execution_count": 110,
   "id": "a055744c-3924-4bd1-a3ab-38107d92a2f9",
   "metadata": {},
   "outputs": [
    {
     "data": {
      "text/plain": [
       "29"
      ]
     },
     "execution_count": 110,
     "metadata": {},
     "output_type": "execute_result"
    }
   ],
   "source": [
    "len(ladsNorthWest)"
   ]
  },
  {
   "cell_type": "code",
   "execution_count": 111,
   "id": "df57425e-01fe-463d-be4c-32be20bf18ba",
   "metadata": {},
   "outputs": [],
   "source": [
    "# Create a function that takes in a dataframe of counties and iterates through it to return the desired list\n",
    "def process_lads(obArr):\n",
    "    final_list = []\n",
    "    for lad in obArr:\n",
    "        node = (lad['name'], {'population': lad['data']['population']['value']['2011']['all'],\n",
    "           'area_code': lad['code']})\n",
    "        final_list.append(node)\n",
    "    return final_list"
   ]
  },
  {
   "cell_type": "code",
   "execution_count": 112,
   "id": "24c3c8e2-0cfa-4d6c-a6f9-09aa4908c8d9",
   "metadata": {},
   "outputs": [
    {
     "data": {
      "text/plain": [
       "[('Halton', {'population': 125746, 'area_code': 'E06000006'}),\n",
       " ('Warrington', {'population': 202228, 'area_code': 'E06000007'}),\n",
       " ('Blackburn with Darwen', {'population': 147489, 'area_code': 'E06000008'}),\n",
       " ('Blackpool', {'population': 142065, 'area_code': 'E06000009'}),\n",
       " ('Cheshire East', {'population': 370127, 'area_code': 'E06000049'}),\n",
       " ('Cheshire West and Chester',\n",
       "  {'population': 329608, 'area_code': 'E06000050'}),\n",
       " ('Carlisle', {'population': 107524, 'area_code': 'E07000028'}),\n",
       " ('South Lakeland', {'population': 103658, 'area_code': 'E07000031'}),\n",
       " ('Chorley', {'population': 107155, 'area_code': 'E07000118'}),\n",
       " ('Lancaster', {'population': 138375, 'area_code': 'E07000121'}),\n",
       " ('Preston', {'population': 140202, 'area_code': 'E07000123'}),\n",
       " ('South Ribble', {'population': 109057, 'area_code': 'E07000126'}),\n",
       " ('West Lancashire', {'population': 110685, 'area_code': 'E07000127'}),\n",
       " ('Wyre', {'population': 107749, 'area_code': 'E07000128'}),\n",
       " ('Bolton', {'population': 276786, 'area_code': 'E08000001'}),\n",
       " ('Bury', {'population': 185060, 'area_code': 'E08000002'}),\n",
       " ('Manchester', {'population': 503127, 'area_code': 'E08000003'}),\n",
       " ('Oldham', {'population': 224897, 'area_code': 'E08000004'}),\n",
       " ('Rochdale', {'population': 211699, 'area_code': 'E08000005'}),\n",
       " ('Salford', {'population': 233933, 'area_code': 'E08000006'}),\n",
       " ('Stockport', {'population': 283275, 'area_code': 'E08000007'}),\n",
       " ('Tameside', {'population': 219324, 'area_code': 'E08000008'}),\n",
       " ('Trafford', {'population': 226578, 'area_code': 'E08000009'}),\n",
       " ('Wigan', {'population': 317849, 'area_code': 'E08000010'}),\n",
       " ('Knowsley', {'population': 145893, 'area_code': 'E08000011'}),\n",
       " ('Liverpool', {'population': 466415, 'area_code': 'E08000012'}),\n",
       " ('St. Helens', {'population': 175308, 'area_code': 'E08000013'}),\n",
       " ('Sefton', {'population': 273790, 'area_code': 'E08000014'}),\n",
       " ('Wirral', {'population': 319783, 'area_code': 'E08000015'})]"
      ]
     },
     "execution_count": 112,
     "metadata": {},
     "output_type": "execute_result"
    }
   ],
   "source": [
    "# add these nodes to our graph\n",
    "area_nodes = process_lads(ladsNorthWest)\n",
    "area_nodes"
   ]
  },
  {
   "cell_type": "code",
   "execution_count": 113,
   "id": "8bcd8c2c-dd66-4c78-948a-809d0e656053",
   "metadata": {},
   "outputs": [],
   "source": [
    "G.add_nodes_from(area_nodes)"
   ]
  },
  {
   "cell_type": "code",
   "execution_count": 114,
   "id": "4d6290db-1184-4aad-b3df-4856b5dc9cff",
   "metadata": {},
   "outputs": [],
   "source": [
    "# Create tuples of nearby areas\n",
    "def ceateEdges(obArr):\n",
    "    nearbyEdges = []\n",
    "    for lad in obArr:\n",
    "        list1 = lad['bounds'][0]+lad['bounds'][1]\n",
    "        for lad2 in obArr:\n",
    "            list2 = lad2['bounds'][0]+lad2['bounds'][1]\n",
    "            listDif = [abs(list1[i]-list2[i]) for i in [0,1,2,3]]\n",
    "            listDif.sort()\n",
    "            if (sum(listDif[:3]) < 0.3) & (lad!=lad2):\n",
    "                nearbyEdges.append((lad['name'], lad2['name']))\n",
    "    return nearbyEdges"
   ]
  },
  {
   "cell_type": "code",
   "execution_count": 115,
   "id": "7f2da3b1-d7ff-4abf-8d07-b54ef614f023",
   "metadata": {},
   "outputs": [
    {
     "data": {
      "text/plain": [
       "[('Halton', 'Warrington'),\n",
       " ('Halton', 'Knowsley'),\n",
       " ('Halton', 'Liverpool'),\n",
       " ('Halton', 'St. Helens'),\n",
       " ('Warrington', 'Halton'),\n",
       " ('Warrington', 'Trafford'),\n",
       " ('Warrington', 'Wigan'),\n",
       " ('Warrington', 'Knowsley'),\n",
       " ('Warrington', 'St. Helens'),\n",
       " ('Blackburn with Darwen', 'Chorley'),\n",
       " ('Blackburn with Darwen', 'South Ribble'),\n",
       " ('Blackburn with Darwen', 'Bolton'),\n",
       " ('Blackpool', 'Preston'),\n",
       " ('Blackpool', 'Wyre'),\n",
       " ('Chorley', 'Blackburn with Darwen'),\n",
       " ('Chorley', 'Preston'),\n",
       " ('Chorley', 'South Ribble'),\n",
       " ('Chorley', 'St. Helens'),\n",
       " ('Preston', 'Blackpool'),\n",
       " ('Preston', 'Chorley'),\n",
       " ('Preston', 'South Ribble'),\n",
       " ('Preston', 'Wyre'),\n",
       " ('South Ribble', 'Blackburn with Darwen'),\n",
       " ('South Ribble', 'Chorley'),\n",
       " ('South Ribble', 'Preston'),\n",
       " ('West Lancashire', 'Sefton'),\n",
       " ('Wyre', 'Blackpool'),\n",
       " ('Wyre', 'Preston'),\n",
       " ('Bolton', 'Blackburn with Darwen'),\n",
       " ('Bolton', 'Bury'),\n",
       " ('Bolton', 'Wigan'),\n",
       " ('Bury', 'Bolton'),\n",
       " ('Bury', 'Manchester'),\n",
       " ('Bury', 'Oldham'),\n",
       " ('Bury', 'Rochdale'),\n",
       " ('Bury', 'Salford'),\n",
       " ('Bury', 'Trafford'),\n",
       " ('Manchester', 'Bury'),\n",
       " ('Manchester', 'Rochdale'),\n",
       " ('Manchester', 'Salford'),\n",
       " ('Manchester', 'Stockport'),\n",
       " ('Manchester', 'Tameside'),\n",
       " ('Manchester', 'Trafford'),\n",
       " ('Oldham', 'Bury'),\n",
       " ('Oldham', 'Rochdale'),\n",
       " ('Oldham', 'Tameside'),\n",
       " ('Rochdale', 'Bury'),\n",
       " ('Rochdale', 'Manchester'),\n",
       " ('Rochdale', 'Oldham'),\n",
       " ('Rochdale', 'Stockport'),\n",
       " ('Rochdale', 'Tameside'),\n",
       " ('Salford', 'Bury'),\n",
       " ('Salford', 'Manchester'),\n",
       " ('Salford', 'Trafford'),\n",
       " ('Salford', 'Wigan'),\n",
       " ('Stockport', 'Manchester'),\n",
       " ('Stockport', 'Rochdale'),\n",
       " ('Stockport', 'Tameside'),\n",
       " ('Stockport', 'Trafford'),\n",
       " ('Tameside', 'Manchester'),\n",
       " ('Tameside', 'Oldham'),\n",
       " ('Tameside', 'Rochdale'),\n",
       " ('Tameside', 'Stockport'),\n",
       " ('Trafford', 'Warrington'),\n",
       " ('Trafford', 'Bury'),\n",
       " ('Trafford', 'Manchester'),\n",
       " ('Trafford', 'Salford'),\n",
       " ('Trafford', 'Stockport'),\n",
       " ('Wigan', 'Warrington'),\n",
       " ('Wigan', 'Bolton'),\n",
       " ('Wigan', 'Salford'),\n",
       " ('Wigan', 'St. Helens'),\n",
       " ('Knowsley', 'Halton'),\n",
       " ('Knowsley', 'Warrington'),\n",
       " ('Knowsley', 'Liverpool'),\n",
       " ('Knowsley', 'St. Helens'),\n",
       " ('Knowsley', 'Wirral'),\n",
       " ('Liverpool', 'Halton'),\n",
       " ('Liverpool', 'Knowsley'),\n",
       " ('Liverpool', 'Wirral'),\n",
       " ('St. Helens', 'Halton'),\n",
       " ('St. Helens', 'Warrington'),\n",
       " ('St. Helens', 'Chorley'),\n",
       " ('St. Helens', 'Wigan'),\n",
       " ('St. Helens', 'Knowsley'),\n",
       " ('Sefton', 'West Lancashire'),\n",
       " ('Wirral', 'Knowsley'),\n",
       " ('Wirral', 'Liverpool')]"
      ]
     },
     "execution_count": 115,
     "metadata": {},
     "output_type": "execute_result"
    }
   ],
   "source": [
    "areaEdges = ceateEdges(ladsNorthWest)\n",
    "areaEdges"
   ]
  },
  {
   "cell_type": "code",
   "execution_count": 116,
   "id": "011f432f-84c2-4a04-b380-45ce1aad7b58",
   "metadata": {},
   "outputs": [],
   "source": [
    "G.add_edges_from(areaEdges)"
   ]
  },
  {
   "cell_type": "code",
   "execution_count": 117,
   "id": "65b64006-0067-41ec-b4dd-d5b1d56340ae",
   "metadata": {},
   "outputs": [
    {
     "data": {
      "image/png": "[encoded data removed]",
      "text/plain": [
       "<Figure size 432x288 with 1 Axes>"
      ]
     },
     "metadata": {},
     "output_type": "display_data"
    }
   ],
   "source": [
    "# define a quick function to draw graphs\n",
    "import matplotlib.pyplot as plt\n",
    "def draw_graph(G):\n",
    "    plt.close()\n",
    "    nx.draw(G, with_labels=True, font_weight='bold')\n",
    "    plt.show()\n",
    "    return\n",
    "\n",
    "draw_graph(G)"
   ]
  },
  {
   "cell_type": "code",
   "execution_count": null,
   "id": "d0e0371a-6517-4e84-8e7c-5fb4ae1b3fc2",
   "metadata": {},
   "outputs": [],
   "source": []
  },
  {
   "cell_type": "code",
   "execution_count": null,
   "id": "a379cb22-125d-4c2c-ad9e-b29f622087a4",
   "metadata": {},
   "outputs": [],
   "source": []
  }
 ],
 "metadata": {
  "kernelspec": {
   "display_name": "Python 3",
   "language": "python",
   "name": "python3"
  },
  "language_info": {
   "codemirror_mode": {
    "name": "ipython",
    "version": 3
   },
   "file_extension": ".py",
   "mimetype": "text/x-python",
   "name": "python",
   "nbconvert_exporter": "python",
   "pygments_lexer": "ipython3",
   "version": "3.8.8"
  }
 },
 "nbformat": 4,
 "nbformat_minor": 5
}
