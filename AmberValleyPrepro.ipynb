{
 "cells": [
  {
   "cell_type": "code",
   "execution_count": 47,
   "id": "cf777daa-fdff-45c5-bd81-5b10594e464d",
   "metadata": {},
   "outputs": [],
   "source": [
    "import pandas as pd\n",
    "import json\n",
    "import networkx as nx\n",
    "from networkx_query import search_nodes, search_edges\n",
    "import numpy as np"
   ]
  },
  {
   "cell_type": "code",
   "execution_count": 48,
   "id": "08f52317-ef12-42b1-b904-5aa67684a30a",
   "metadata": {},
   "outputs": [],
   "source": [
    "options = pd.read_csv('./csv/lists/places_2020.csv')\n",
    "areaType = pd.read_csv('/Users/theojolliffe/Documents/Census Data/censusAreaLookup.csv')\n",
    "tfidf = pd.read_csv('/Users/theojolliffe/Documents/Wayback BBC/BBCRegionalTFIDF.csv')\n",
    "typeLookup = {}\n",
    "for i in areaType.index:\n",
    "    typeLookup[areaType.iloc[i]['Name']]=areaType.iloc[i]['Group name']"
   ]
  },
  {
   "cell_type": "code",
   "execution_count": 49,
   "id": "8d1e89cf-589b-4f99-ab2a-b1fad36ecd82",
   "metadata": {
    "tags": []
   },
   "outputs": [
    {
     "name": "stdout",
     "output_type": "stream",
     "text": [
      "E05009289\n",
      "E05009290\n",
      "E05009293\n",
      "E05009294\n",
      "E05009295\n",
      "E05009297\n",
      "E05009298\n",
      "E05009299\n",
      "E05009300\n",
      "E05009301\n",
      "E05009303\n",
      "E05009306\n",
      "E05009307\n",
      "E05009312\n",
      "E05011090\n"
     ]
    }
   ],
   "source": [
    "areas = []\n",
    "for i in options[\"code\"]:\n",
    "    try:\n",
    "        areas.append(json.load(open(f'/Users/theojolliffe/Documents/Census Data/census-data-main/json/place/{i}.json', 'rb')))\n",
    "    except FileNotFoundError:\n",
    "        print(i)\n",
    "        pass"
   ]
  },
  {
   "cell_type": "code",
   "execution_count": 50,
   "id": "cfc395f5-e54a-4533-b6a8-9b482632b33c",
   "metadata": {
    "tags": []
   },
   "outputs": [],
   "source": [
    "# Seperate the areas by area type\n",
    "regions = []\n",
    "for i in areas:\n",
    "    if i['type']=='rgn':\n",
    "        regions.append(i)\n",
    "        \n",
    "lads = []\n",
    "for i in areas:\n",
    "    if i['type']=='lad':\n",
    "        lads.append(i)\n",
    "        \n",
    "countries = []\n",
    "for i in areas:\n",
    "    if (i['type']=='ew')|(i['type']=='ctry'):\n",
    "        countries.append(i)"
   ]
  },
  {
   "cell_type": "code",
   "execution_count": 51,
   "id": "c06daf46-f8d7-463e-9baa-448dae6405a6",
   "metadata": {},
   "outputs": [],
   "source": [
    "# Find each LAD local and national ranks and put in prioirity order\n",
    "for thisLad in lads:\n",
    "    \n",
    "    # Empty array will be populted with ranks for each variable\n",
    "    ranks = []\n",
    "\n",
    "    # Filter areas with same parent\n",
    "    sister_lads = []\n",
    "    lad_code = thisLad['parents'][0]['code']\n",
    "    for i in range(len(lads)):\n",
    "        if  lad_code == lads[i]['parents'][0]['code']:\n",
    "            sister_lads.append(lads[i])\n",
    "\n",
    "    # Loop through the various data variables\n",
    "    for a in thisLad['data']:\n",
    "        if a in ['population', 'density', 'agemed']:\n",
    "            b = 'value'\n",
    "        else:\n",
    "            b = 'perc'\n",
    "        # Create nested object with localised rank\n",
    "        thisLad['data'][a][b+\"_rank_local\"] = {}    \n",
    "        for c in ['2011', 'change']:\n",
    "            thisLad['data'][a][b+\"_rank_local\"][c] = {}\n",
    "            for d in thisLad['data'][a][b][c]:\n",
    "                vari = thisLad['data'][a][b][c][d]\n",
    "\n",
    "                # Create sorted list of values from sister areas\n",
    "                group_values = []\n",
    "                for lad in sister_lads:\n",
    "                    group_values.append(lad['data'][a][b][c][d])\n",
    "                    group_values = [x if (type(x) == float) | (type(x) == int) else np.nan for x in group_values]\n",
    "                group_values.sort(reverse=True)\n",
    "\n",
    "                # Find index of value of area of interest\n",
    "                varRank = group_values.index(vari) + 1\n",
    "\n",
    "                # Convert bottom half rankings into negative values\n",
    "                if varRank>len(group_values)/2:\n",
    "                    varRank = varRank-len(group_values)-1\n",
    "                    \n",
    "                natRank = thisLad['data'][a][b+\"_rank\"][c][d]\n",
    "                if natRank > 168:\n",
    "                    natRank = natRank-336-1\n",
    "\n",
    "                thisLad['data'][a][b+\"_rank_local\"][c][d] = varRank\n",
    "\n",
    "                # Append ranking data to original array\n",
    "                ranks.append({\n",
    "                    'label': a+'_'+b+'_'+c+'_'+d, \n",
    "                    'locRank': varRank, \n",
    "                    'natRank': natRank, \n",
    "                    'value': vari})\n",
    "\n",
    "    # Sort in rank order\n",
    "    ranks = sorted(ranks, key=lambda x: (abs(x['locRank']), -abs(x['value'])))\n",
    "    thisLad[\"Priorities\"] = ranks"
   ]
  },
  {
   "cell_type": "code",
   "execution_count": 52,
   "id": "27663250-5802-421e-b0ab-bb731af6224f",
   "metadata": {},
   "outputs": [],
   "source": [
    "topics = [{1: 'population', 2: 'value', 3: 'all'}, \n",
    "          {1: 'health', 2: 'perc', 3: 'good'},\n",
    "          {1: 'travel', 2: 'perc', 3: 'car_van'},\n",
    "          {1: 'agemed', 2: 'value', 3: 'all'},\n",
    "          {1: 'economic', 2: 'perc', 3: 'employee'},\n",
    "          {1: 'health', 2: 'perc', 3: 'bad'},\n",
    "          {1: 'ethnicity', 2: 'perc', 3: 'black'},\n",
    "          {1: 'economic', 2: 'perc', 3: 'student'},\n",
    "          {1: 'economic', 2: 'perc', 3: 'self-employed'}]\n",
    "\n",
    "ladCodes = []\n",
    "for lad in lads:\n",
    "    ladCodes.append(lad['code'])\n",
    "    \n",
    "    \n",
    "df = pd.DataFrame(columns=\n",
    "                  ['lad', '2001',  '2011',  'change', 'natRank', 'localRank', 'topic', 'parent'])\n",
    "for j in range(len(topics)):\n",
    "    df1 = pd.DataFrame(index=ladCodes, columns=\n",
    "                      ['lad', '2001',  '2011',  'change', 'natRank', 'localRank', 'topic', 'parent'])\n",
    "    for i in range(len(lads)):\n",
    "        df1['lad'].iloc[i] = lads[i]['name']\n",
    "        df1['2001'].iloc[i] = lads[i]['data'][topics[j][1]][topics[j][2]]['2001'][topics[j][3]]\n",
    "        df1['2011'].iloc[i] = lads[i]['data'][topics[j][1]][topics[j][2]]['2011'][topics[j][3]]    \n",
    "        df1['change'].iloc[i] = lads[i]['data'][topics[j][1]][topics[j][2]]['change'][topics[j][3]]\n",
    "        df1['natRank'].iloc[i] = lads[i]['data'][topics[j][1]][topics[j][2]+\"_rank\"]['change'][topics[j][3]]    \n",
    "        df1['localRank'].iloc[i] = lads[i]['data'][topics[j][1]][topics[j][2]+\"_rank_local\"]['change'][topics[j][3]]    \n",
    "        df1['topic'].iloc[i] = topics[j][1]+\"_\"+topics[j][3]\n",
    "        df1['parent'].iloc[i] = lads[i]['parents'][0]['name']\n",
    "    df = pd.concat([df,df1])\n",
    "df['natRank'] = np.where(df['natRank'] > 168, df['natRank']-337,df['natRank'])\n",
    "\n",
    "\n",
    "\n",
    "for topic in topics:\n",
    "    for lad in lads:\n",
    "        \n",
    "#       Find the areas that this area has overtaken\n",
    "        v2001 = lad['data'][topic[1]][topic[2]]['2001'][topic[3]]\n",
    "        v2011 = lad['data'][topic[1]][topic[2]]['2011'][topic[3]]\n",
    "        dfT = df[(df['topic']==topic[1]+\"_\"+topic[3])&(df['2001']>v2001)&(df['2011']<v2011)]\n",
    "        obje = []\n",
    "        for i in range(dfT.shape[0]):\n",
    "            obje.append(dfT.iloc[i]['lad'])\n",
    "\n",
    "        lad['data'][topic[1]][topic[2]+\"_rank\"]['overtake'] = {}\n",
    "        lad['data'][topic[1]][topic[2]+\"_rank\"]['overtake'][topic[3]] = obje\n",
    "        \n",
    "#       Find the area immediatly above or below\n",
    "        below = lad['data'][topic[1]][topic[2]+'_rank_local']['2011'][topic[3]]\n",
    "        above = lad['data'][topic[1]][topic[2]+'_rank_local']['2011'][topic[3]]-2\n",
    "        if below<0:\n",
    "            below=below+1\n",
    "            above=above+1\n",
    "        reg = lad['parents'][0]['name']\n",
    "        name_above = df[(df['parent']==reg)&(df['topic']==topic[1]+\"_\"+topic[3])].sort_values('2011', ascending=False).iloc[above]['lad']\n",
    "        name_below = df[(df['parent']==reg)&(df['topic']==topic[1]+\"_\"+topic[3])].sort_values('2011', ascending=False).iloc[below]['lad']\n",
    "        if above>0:\n",
    "            area_above = {'name': name_above,\n",
    "                         'value': df[(df['lad']==name_above)&(df['topic']==topic[1]+\"_\"+topic[3])]['2011'].iloc[0]}\n",
    "        else:\n",
    "            area_above = 'NaN'\n",
    "        if below<len(df[(df['parent']==reg)&(df['topic']==topic[1]+\"_\"+topic[3])]):\n",
    "            area_below = {'name': name_below,\n",
    "                          'value': df[(df['lad']==name_below)&(df['topic']==topic[1]+\"_\"+topic[3])]['2011'].iloc[0]}\n",
    "        else:\n",
    "            area_below = 'NaN'\n",
    "        \n",
    "        if 'above_below' not in lad['data'][topic[1]][topic[2]+'_rank_local'].keys():\n",
    "            lad['data'][topic[1]][topic[2]+'_rank_local']['above_below'] = {}\n",
    "\n",
    "        if topic[3] not in lad['data'][topic[1]][topic[2]+'_rank_local']['above_below'].keys():\n",
    "            lad['data'][topic[1]][topic[2]+'_rank_local']['above_below'][topic[3]] = {}\n",
    "        \n",
    "        lad['data'][topic[1]][topic[2]+'_rank_local']['above_below'][topic[3]][\"above\"] = area_above\n",
    "        lad['data'][topic[1]][topic[2]+'_rank_local']['above_below'][topic[3]][\"below\"] = area_below\n",
    "            \n",
    "        # Add top and bottom three biggest movers for each subject to every area\n",
    "        df_topic = df[(df['topic']==topic[1]+\"_\"+topic[3])&(abs(df['natRank'])<4)]\n",
    "        ob = {}\n",
    "        for index, row in df_topic.iterrows():\n",
    "            ob[row['natRank']]= {row['lad']: row['change']}\n",
    "        if 'top_bottom' not in lad['data'][topic[1]][topic[2]+'_rank'].keys():\n",
    "            lad['data'][topic[1]][topic[2]+'_rank']['top_bottom'] = {}\n",
    "        lad['data'][topic[1]][topic[2]+'_rank']['top_bottom'][topic[3]]=ob"
   ]
  },
  {
   "cell_type": "code",
   "execution_count": 57,
   "id": "ade162c7-2be8-427d-9977-a254fff64c9f",
   "metadata": {},
   "outputs": [
    {
     "name": "stdout",
     "output_type": "stream",
     "text": [
      "Erewash\n"
     ]
    }
   ],
   "source": [
    "# Create triple data for areas of closest proximity\n",
    "geogTriples = []\n",
    "for lad in lads:\n",
    "    list1 = lad['bounds'][0]+lad['bounds'][1]\n",
    "    for lad2 in lads:\n",
    "        list2 = lad2['bounds'][0]+lad2['bounds'][1]\n",
    "        listDif = [abs(list1[i]-list2[i]) for i in [0,1,2,3]]\n",
    "        listDif.sort()\n",
    "        if (sum(listDif[:3]) < 0.3) & (lad!=lad2):\n",
    "            geogTriples.append([lad['name'], lad2['name'], (\"near\", round(sum(listDif[:3]), 2))])\n",
    "            \n",
    "# Find nearby area of same area type\n",
    "for i in geogTriples:\n",
    "    try:\n",
    "        if ((i[0]==\"Amber Valley\")&(typeLookup[i[1]]==typeLookup[\"Amber Valley\"])):\n",
    "            nearSimilar = i[1]\n",
    "            print(i[1])\n",
    "    except:\n",
    "        pass"
   ]
  },
  {
   "cell_type": "code",
   "execution_count": 11,
   "id": "321d1d0d-35c5-4af9-92ec-92a4bb085225",
   "metadata": {},
   "outputs": [],
   "source": [
    "# Filter out priority list by subject\n",
    "for lad in lads:\n",
    "    topicList = [\"density\", \"age10yr\"] \n",
    "    subjectList = [\"fair\", \"rent_free\", \"shared_ownership\", \"bicycle\", \"taxi\", \"moto\", \"bus\", \"other\", \"female\", \"male\"]\n",
    "    priorities = []\n",
    "    for rank in lad['Priorities']:\n",
    "        s=rank['label'].split(\"_\")\n",
    "        if len(s)>4:\n",
    "            s[3] = s[3] + \"_\" + s[4]\n",
    "        if ((s[2] == \"change\") & (s[0] not in topicList) & (s[3] not in subjectList)):\n",
    "            priorities.append(rank)\n",
    "    lad['pri'] = priorities"
   ]
  },
  {
   "cell_type": "code",
   "execution_count": null,
   "id": "45be1344-0cba-4649-82c4-741ad3999703",
   "metadata": {},
   "outputs": [],
   "source": []
  },
  {
   "cell_type": "code",
   "execution_count": 12,
   "id": "15f1f40a-859f-4ede-a5d5-a7f147e438cb",
   "metadata": {},
   "outputs": [
    {
     "data": {
      "text/plain": [
       "[{'label': 'economic_perc_change_self-employed',\n",
       "  'locRank': 7,\n",
       "  'natRank': 149,\n",
       "  'value': 1.3},\n",
       " {'label': 'health_perc_change_bad',\n",
       "  'locRank': -8,\n",
       "  'natRank': -79,\n",
       "  'value': -4.05},\n",
       " {'label': 'ethnicity_perc_change_white',\n",
       "  'locRank': 8,\n",
       "  'natRank': 57,\n",
       "  'value': -0.95},\n",
       " {'label': 'ethnicity_perc_change_asian',\n",
       "  'locRank': -10,\n",
       "  'natRank': -46,\n",
       "  'value': 0.38},\n",
       " {'label': 'tenure_perc_change_rented_private',\n",
       "  'locRank': -12,\n",
       "  'natRank': -112,\n",
       "  'value': 4.99},\n",
       " {'label': 'travel_perc_change_home',\n",
       "  'locRank': 12,\n",
       "  'natRank': 146,\n",
       "  'value': -4.58},\n",
       " {'label': 'health_perc_change_good',\n",
       "  'locRank': 13,\n",
       "  'natRank': 83,\n",
       "  'value': 12.97},\n",
       " {'label': 'ethnicity_perc_change_mixed',\n",
       "  'locRank': -13,\n",
       "  'natRank': -86,\n",
       "  'value': 0.39},\n",
       " {'label': 'ethnicity_perc_change_black',\n",
       "  'locRank': -13,\n",
       "  'natRank': -99,\n",
       "  'value': 0.13},\n",
       " {'label': 'population_value_change_all',\n",
       "  'locRank': -14,\n",
       "  'natRank': -103,\n",
       "  'value': 5.01},\n",
       " {'label': 'tenure_perc_change_owned',\n",
       "  'locRank': 15,\n",
       "  'natRank': 88,\n",
       "  'value': -3.04},\n",
       " {'label': 'agemed_value_change_all',\n",
       "  'locRank': -15,\n",
       "  'natRank': -156,\n",
       "  'value': 2.56},\n",
       " {'label': 'travel_perc_change_car_van',\n",
       "  'locRank': -16,\n",
       "  'natRank': 89,\n",
       "  'value': 6.23},\n",
       " {'label': 'tenure_perc_change_rented_social',\n",
       "  'locRank': 16,\n",
       "  'natRank': -152,\n",
       "  'value': -0.93},\n",
       " {'label': 'travel_perc_change_foot',\n",
       "  'locRank': -17,\n",
       "  'natRank': -86,\n",
       "  'value': -1.67},\n",
       " {'label': 'economic_perc_change_unemployed',\n",
       "  'locRank': 17,\n",
       "  'natRank': -136,\n",
       "  'value': 0.83},\n",
       " {'label': 'economic_perc_change_employee',\n",
       "  'locRank': -19,\n",
       "  'natRank': -127,\n",
       "  'value': -0.81},\n",
       " {'label': 'economic_perc_change_inactive',\n",
       "  'locRank': 20,\n",
       "  'natRank': 87,\n",
       "  'value': -1.83},\n",
       " {'label': 'travel_perc_change_train_metro',\n",
       "  'locRank': 20,\n",
       "  'natRank': -118,\n",
       "  'value': 1.09},\n",
       " {'label': 'economic_perc_change_student',\n",
       "  'locRank': 20,\n",
       "  'natRank': -147,\n",
       "  'value': 0.5}]"
      ]
     },
     "execution_count": 12,
     "metadata": {},
     "output_type": "execute_result"
    }
   ],
   "source": [
    "ambervalley = [lad for lad in lads if lad['name']==\"Amber Valley\"][0]\n",
    "ambervalley['pri']"
   ]
  },
  {
   "cell_type": "code",
   "execution_count": 27,
   "id": "425959db-65c5-41ca-a1b0-2f113478b0f8",
   "metadata": {},
   "outputs": [
    {
     "data": {
      "text/plain": [
       "{'all': 4.61}"
      ]
     },
     "execution_count": 27,
     "metadata": {},
     "output_type": "execute_result"
    }
   ],
   "source": [
    "ambervalley['data']['density']['value']['2011']"
   ]
  },
  {
   "cell_type": "code",
   "execution_count": 20,
   "id": "85cc268d-e13c-4e78-9b78-78d04a4f5fec",
   "metadata": {},
   "outputs": [
    {
     "data": {
      "text/plain": [
       "8"
      ]
     },
     "execution_count": 20,
     "metadata": {},
     "output_type": "execute_result"
    }
   ],
   "source": [
    "ambervalley['data']['population']['value_rank_local']['2011']['all']"
   ]
  },
  {
   "cell_type": "code",
   "execution_count": 62,
   "id": "1e37f4b5-fcd2-4c84-9d18-c1e5455ed3d4",
   "metadata": {},
   "outputs": [
    {
     "data": {
      "text/plain": [
       "{'all': 112081, 'female': 57147, 'male': 54934}"
      ]
     },
     "execution_count": 62,
     "metadata": {},
     "output_type": "execute_result"
    }
   ],
   "source": [
    "nearSimilarData['data']['population']['value']['2011']"
   ]
  },
  {
   "cell_type": "code",
   "execution_count": 60,
   "id": "e262c6dd-e715-4e77-b0bf-6a6fefb7dadd",
   "metadata": {},
   "outputs": [
    {
     "data": {
      "text/plain": [
       "{'all': 4172174.0, 'female': 2123316.0, 'male': 2048858.0}"
      ]
     },
     "execution_count": 60,
     "metadata": {},
     "output_type": "execute_result"
    }
   ],
   "source": [
    "regions[3]['data']['population']['value']['2001']"
   ]
  },
  {
   "cell_type": "code",
   "execution_count": 36,
   "id": "b41875bd-a403-439d-a9c8-5812c2cc52c5",
   "metadata": {},
   "outputs": [
    {
     "data": {
      "text/plain": [
       "{'all': 7.88, 'female': 6.85, 'male': 8.98}"
      ]
     },
     "execution_count": 36,
     "metadata": {},
     "output_type": "execute_result"
    }
   ],
   "source": [
    "countries[1]['data']['population']['value']['change']"
   ]
  },
  {
   "cell_type": "code",
   "execution_count": 360,
   "id": "06327e75-ace4-4962-ab59-b9daa6ac5340",
   "metadata": {},
   "outputs": [],
   "source": [
    "stories = []"
   ]
  },
  {
   "cell_type": "code",
   "execution_count": 361,
   "id": "5a93bb81-126a-4114-974b-99b23f8c896c",
   "metadata": {},
   "outputs": [],
   "source": [
    "stories=stories+[i for i in ambervalley['pri'] if abs(i['locRank']) <= 5]"
   ]
  },
  {
   "cell_type": "code",
   "execution_count": 362,
   "id": "ff1c18ba-7428-445f-8803-9d0d7161dc88",
   "metadata": {},
   "outputs": [],
   "source": [
    "stories=stories+[i for i in ambervalley['pri'] if abs(i['natRank']) <= 10]"
   ]
  },
  {
   "cell_type": "code",
   "execution_count": 363,
   "id": "4664b4d0-5624-45d9-bb50-c5ddc385eed9",
   "metadata": {},
   "outputs": [
    {
     "data": {
      "text/plain": [
       "[]"
      ]
     },
     "execution_count": 363,
     "metadata": {},
     "output_type": "execute_result"
    }
   ],
   "source": [
    "stories"
   ]
  },
  {
   "cell_type": "code",
   "execution_count": 364,
   "id": "60f08a2e-2553-48a1-8e2c-3e71421487ce",
   "metadata": {},
   "outputs": [
    {
     "data": {
      "text/plain": [
       "[{'label': 'health_perc_change_good',\n",
       "  'locRank': 13,\n",
       "  'natRank': 83,\n",
       "  'value': 12.97},\n",
       " {'label': 'travel_perc_change_car_van',\n",
       "  'locRank': -16,\n",
       "  'natRank': 89,\n",
       "  'value': 6.23},\n",
       " {'label': 'population_value_change_all',\n",
       "  'locRank': -14,\n",
       "  'natRank': -103,\n",
       "  'value': 5.01},\n",
       " {'label': 'tenure_perc_change_rented_private',\n",
       "  'locRank': -12,\n",
       "  'natRank': -112,\n",
       "  'value': 4.99},\n",
       " {'label': 'travel_perc_change_home',\n",
       "  'locRank': 12,\n",
       "  'natRank': 146,\n",
       "  'value': -4.58}]"
      ]
     },
     "execution_count": 364,
     "metadata": {},
     "output_type": "execute_result"
    }
   ],
   "source": [
    "change = sorted(ambervalley['pri'], reverse=True, key=lambda x: abs(x['value']))\n",
    "bigchange = [i for i in change if abs(i['value'])>4.5]\n",
    "bigchange"
   ]
  },
  {
   "cell_type": "code",
   "execution_count": 366,
   "id": "7c9aa5a7-ae16-43b3-9057-f0d5faf0f69d",
   "metadata": {},
   "outputs": [],
   "source": [
    "for i in range(len(bigchange)):\n",
    "    if len(stories)<4:\n",
    "        stories=stories+[bigchange[i]]"
   ]
  },
  {
   "cell_type": "code",
   "execution_count": 367,
   "id": "068ee4c6-b20a-43b1-918e-575ec242e462",
   "metadata": {},
   "outputs": [
    {
     "data": {
      "text/plain": [
       "[{'label': 'health_perc_change_good',\n",
       "  'locRank': 13,\n",
       "  'natRank': 83,\n",
       "  'value': 12.97},\n",
       " {'label': 'travel_perc_change_car_van',\n",
       "  'locRank': -16,\n",
       "  'natRank': 89,\n",
       "  'value': 6.23},\n",
       " {'label': 'population_value_change_all',\n",
       "  'locRank': -14,\n",
       "  'natRank': -103,\n",
       "  'value': 5.01},\n",
       " {'label': 'tenure_perc_change_rented_private',\n",
       "  'locRank': -12,\n",
       "  'natRank': -112,\n",
       "  'value': 4.99}]"
      ]
     },
     "execution_count": 367,
     "metadata": {},
     "output_type": "execute_result"
    }
   ],
   "source": [
    "stories"
   ]
  },
  {
   "cell_type": "code",
   "execution_count": 368,
   "id": "a7f3be04-7ab8-48b8-9d1e-330178bf245e",
   "metadata": {},
   "outputs": [
    {
     "data": {
      "text/plain": [
       "[{'label': 'ethnicity_perc_change_black',\n",
       "  'locRank': -13,\n",
       "  'natRank': -99,\n",
       "  'value': 0.13},\n",
       " {'label': 'ethnicity_perc_change_asian',\n",
       "  'locRank': -10,\n",
       "  'natRank': -46,\n",
       "  'value': 0.38},\n",
       " {'label': 'ethnicity_perc_change_mixed',\n",
       "  'locRank': -13,\n",
       "  'natRank': -86,\n",
       "  'value': 0.39},\n",
       " {'label': 'economic_perc_change_student',\n",
       "  'locRank': 20,\n",
       "  'natRank': -147,\n",
       "  'value': 0.5},\n",
       " {'label': 'economic_perc_change_employee',\n",
       "  'locRank': -19,\n",
       "  'natRank': -127,\n",
       "  'value': -0.81},\n",
       " {'label': 'economic_perc_change_unemployed',\n",
       "  'locRank': 17,\n",
       "  'natRank': -136,\n",
       "  'value': 0.83},\n",
       " {'label': 'tenure_perc_change_rented_social',\n",
       "  'locRank': 16,\n",
       "  'natRank': -152,\n",
       "  'value': -0.93},\n",
       " {'label': 'ethnicity_perc_change_white',\n",
       "  'locRank': 8,\n",
       "  'natRank': 57,\n",
       "  'value': -0.95}]"
      ]
     },
     "execution_count": 368,
     "metadata": {},
     "output_type": "execute_result"
    }
   ],
   "source": [
    "smallchange = sorted([i for i in change if abs(i['value'])<1], reverse=False, key=lambda x: abs(x['value']))\n",
    "smallchange"
   ]
  },
  {
   "cell_type": "code",
   "execution_count": 369,
   "id": "5e7bf543-1c4f-4767-a47e-66b713b05590",
   "metadata": {},
   "outputs": [],
   "source": [
    "for i in range(len(smallchange)):\n",
    "    if len(stories)<5:\n",
    "        stories=stories+[smallchange[i]]"
   ]
  },
  {
   "cell_type": "code",
   "execution_count": 370,
   "id": "6f0208f9-05a1-4a18-9aca-c53da3886ab3",
   "metadata": {},
   "outputs": [
    {
     "data": {
      "text/plain": [
       "[{'label': 'health_perc_change_good',\n",
       "  'locRank': 13,\n",
       "  'natRank': 83,\n",
       "  'value': 12.97},\n",
       " {'label': 'travel_perc_change_car_van',\n",
       "  'locRank': -16,\n",
       "  'natRank': 89,\n",
       "  'value': 6.23},\n",
       " {'label': 'population_value_change_all',\n",
       "  'locRank': -14,\n",
       "  'natRank': -103,\n",
       "  'value': 5.01},\n",
       " {'label': 'tenure_perc_change_rented_private',\n",
       "  'locRank': -12,\n",
       "  'natRank': -112,\n",
       "  'value': 4.99},\n",
       " {'label': 'ethnicity_perc_change_black',\n",
       "  'locRank': -13,\n",
       "  'natRank': -99,\n",
       "  'value': 0.13}]"
      ]
     },
     "execution_count": 370,
     "metadata": {},
     "output_type": "execute_result"
    }
   ],
   "source": [
    "stories"
   ]
  },
  {
   "cell_type": "code",
   "execution_count": 371,
   "id": "d9ef4ef4-aafd-493e-9c85-30ae103599f6",
   "metadata": {},
   "outputs": [
    {
     "data": {
      "text/plain": [
       "[('population_value_change_all', -3.6400000000000006),\n",
       " ('ethnicity_perc_change_white', 3.2800000000000002),\n",
       " ('travel_perc_change_foot', -1.7999999999999998),\n",
       " ('ethnicity_perc_change_asian', -1.73),\n",
       " ('tenure_perc_change_rented_private', -1.6399999999999997),\n",
       " ('tenure_perc_change_owned', 1.5099999999999998),\n",
       " ('travel_perc_change_car_van', 1.1600000000000001),\n",
       " ('ethnicity_perc_change_black', -0.73),\n",
       " ('tenure_perc_change_rented_social', 0.63),\n",
       " ('ethnicity_perc_change_mixed', -0.47),\n",
       " ('health_perc_change_bad', -0.46999999999999975),\n",
       " ('economic_perc_change_inactive', 0.3799999999999999),\n",
       " ('economic_perc_change_self-employed', 0.37),\n",
       " ('economic_perc_change_employee', -0.36000000000000004),\n",
       " ('economic_perc_change_student', -0.31999999999999995),\n",
       " ('travel_perc_change_home', -0.16999999999999993),\n",
       " ('health_perc_change_good', 0.11000000000000121),\n",
       " ('travel_perc_change_train_metro', 0.07000000000000006),\n",
       " ('economic_perc_change_unemployed', -0.07000000000000006),\n",
       " ('agemed_value_change_all', -0.06999999999999984)]"
      ]
     },
     "execution_count": 371,
     "metadata": {},
     "output_type": "execute_result"
    }
   ],
   "source": [
    "def reg(i):\n",
    "    s=i['label'].split(\"_\")\n",
    "    if len(s)>4:\n",
    "        s[3] = s[3] + \"_\" + s[4]\n",
    "    return regions[3]['data'][s[0]][s[1]][s[2]][s[3]]\n",
    "regDiff = [(i['label'], i['value']-reg(i)) for i in change]\n",
    "sorted(regDiff, reverse=True, key=lambda x: abs(x[1]))"
   ]
  },
  {
   "cell_type": "code",
   "execution_count": 280,
   "id": "e0c2a1a6-e8e4-4c7b-bb0d-372d76706cb3",
   "metadata": {},
   "outputs": [
    {
     "data": {
      "text/plain": [
       "[('travel_perc_change_car_van', 5.3100000000000005),\n",
       " ('ethnicity_perc_change_white', 4.56),\n",
       " ('population_value_change_all', -2.87),\n",
       " ('travel_perc_change_foot', -2.44),\n",
       " ('ethnicity_perc_change_asian', -2.42),\n",
       " ('tenure_perc_change_rented_private', -1.96),\n",
       " ('tenure_perc_change_owned', 1.8899999999999997),\n",
       " ('economic_perc_change_inactive', 1.2199999999999998),\n",
       " ('ethnicity_perc_change_black', -1.0499999999999998),\n",
       " ('travel_perc_change_train_metro', -0.95),\n",
       " ('travel_perc_change_home', -0.7600000000000002),\n",
       " ('ethnicity_perc_change_mixed', -0.5499999999999999),\n",
       " ('economic_perc_change_employee', -0.53),\n",
       " ('tenure_perc_change_rented_social', 0.5299999999999999),\n",
       " ('health_perc_change_bad', -0.5099999999999998),\n",
       " ('economic_perc_change_student', -0.36),\n",
       " ('health_perc_change_good', 0.33999999999999986),\n",
       " ('economic_perc_change_unemployed', -0.20000000000000007),\n",
       " ('agemed_value_change_all', -0.14000000000000012),\n",
       " ('economic_perc_change_self-employed', -0.1399999999999999)]"
      ]
     },
     "execution_count": 280,
     "metadata": {},
     "output_type": "execute_result"
    }
   ],
   "source": [
    "def cou(i):\n",
    "    s=i['label'].split(\"_\")\n",
    "    if len(s)>4:\n",
    "        s[3] = s[3] + \"_\" + s[4]\n",
    "    return countries[1]['data'][s[0]][s[1]][s[2]][s[3]]\n",
    "couDiff = [(i['label'], i['value']-cou(i)) for i in change]\n",
    "sorted(couDiff, reverse=True, key=lambda x: abs(x[1]))"
   ]
  },
  {
   "cell_type": "code",
   "execution_count": null,
   "id": "9daef035-1f83-4ad0-8467-8775b1b07af8",
   "metadata": {},
   "outputs": [],
   "source": []
  },
  {
   "cell_type": "code",
   "execution_count": 58,
   "id": "1f96828e-9b23-4e06-a822-cb6b3cf775cd",
   "metadata": {
    "tags": []
   },
   "outputs": [
    {
     "name": "stdout",
     "output_type": "stream",
     "text": [
      "Amber Valley  population:  122309\n",
      "Erewash  population:  112081\n",
      "Difference:  10228 ,  8 %\n"
     ]
    }
   ],
   "source": [
    "nearSimilarData = [lad for lad in lads if lad['name']==nearSimilar][0]\n",
    "print(ambervalley['name'], \" population: \", ambervalley['data']['population']['value']['2011']['all'])\n",
    "print(nearSimilarData['name'], \" population: \", nearSimilarData['data']['population']['value']['2011']['all'])\n",
    "difference = ambervalley['data']['population']['value']['2011']['all']- nearSimilarData['data']['population']['value']['2011']['all']\n",
    "print(\"Difference: \", difference, \", \", round(100*difference/ambervalley['data']['population']['value']['2011']['all']), \"%\")"
   ]
  },
  {
   "cell_type": "code",
   "execution_count": 373,
   "id": "a88ec4df-0e19-4b37-9ec7-ce1b8566b264",
   "metadata": {},
   "outputs": [
    {
     "data": {
      "text/plain": [
       "[('population_value_change_all', 3.21),\n",
       " ('travel_perc_change_car_van', -2.889999999999999),\n",
       " ('tenure_perc_change_owned', 2.3099999999999996),\n",
       " ('travel_perc_change_foot', 1.6),\n",
       " ('travel_perc_change_home', 1.3899999999999997),\n",
       " ('tenure_perc_change_rented_private', -1.2999999999999998),\n",
       " ('health_perc_change_bad', -0.52),\n",
       " ('economic_perc_change_unemployed', -0.43000000000000005),\n",
       " ('economic_perc_change_employee', 0.4099999999999999),\n",
       " ('health_perc_change_good', 0.25),\n",
       " ('travel_perc_change_train_metro', -0.16999999999999993),\n",
       " ('economic_perc_change_self-employed', 0.08000000000000007),\n",
       " ('ethnicity_perc_change_mixed', -0.07999999999999996),\n",
       " ('economic_perc_change_inactive', -0.07000000000000006),\n",
       " ('agemed_value_change_all', -0.06999999999999984),\n",
       " ('ethnicity_perc_change_white', 0.06000000000000005),\n",
       " ('tenure_perc_change_rented_social', -0.06000000000000005),\n",
       " ('ethnicity_perc_change_black', 0.03),\n",
       " ('economic_perc_change_student', 0.0),\n",
       " ('ethnicity_perc_change_asian', 0.0)]"
      ]
     },
     "execution_count": 373,
     "metadata": {},
     "output_type": "execute_result"
    }
   ],
   "source": [
    "def near(i):\n",
    "    s=i['label'].split(\"_\")\n",
    "    if len(s)>4:\n",
    "        s[3] = s[3] + \"_\" + s[4]\n",
    "    return nearSimilarData['data'][s[0]][s[1]][s[2]][s[3]]\n",
    "nearDiff = [(i['label'], i['value']-near(i)) for i in change]\n",
    "sorted(nearDiff, reverse=True, key=lambda x: abs(x[1]))"
   ]
  },
  {
   "cell_type": "code",
   "execution_count": 374,
   "id": "9ae5b088-b297-4d9e-8a8a-1e9d29b5c780",
   "metadata": {},
   "outputs": [
    {
     "data": {
      "text/plain": [
       "[['Amber Valley', 'Derby', ('near', 0.19)],\n",
       " ['Amber Valley', 'Chesterfield', ('near', 0.3)],\n",
       " ['Amber Valley', 'Erewash', ('near', 0.25)],\n",
       " ['Amber Valley', 'North East Derbyshire', ('near', 0.22)],\n",
       " ['Amber Valley', 'Ashfield', ('near', 0.26)],\n",
       " ['Amber Valley', 'Broxtowe', ('near', 0.24)]]"
      ]
     },
     "execution_count": 374,
     "metadata": {},
     "output_type": "execute_result"
    }
   ],
   "source": [
    "[i for i in geogTriples if i[0]==\"Amber Valley\"]"
   ]
  },
  {
   "cell_type": "code",
   "execution_count": 375,
   "id": "6e5d0abc-2e1b-48d2-8d62-71fab92f470b",
   "metadata": {
    "tags": []
   },
   "outputs": [
    {
     "data": {
      "text/plain": [
       "[('North East Derbyshire',\n",
       "  {'label': 'travel_perc_change_home',\n",
       "   'locRank': -1,\n",
       "   'natRank': -3,\n",
       "   'value': -9.76}),\n",
       " ('Derby',\n",
       "  {'label': 'agemed_value_change_all',\n",
       "   'locRank': -2,\n",
       "   'natRank': -31,\n",
       "   'value': -2.7}),\n",
       " ('Chesterfield',\n",
       "  {'label': 'economic_perc_change_unemployed',\n",
       "   'locRank': -2,\n",
       "   'natRank': -26,\n",
       "   'value': 0.12}),\n",
       " ('Ashfield',\n",
       "  {'label': 'travel_perc_change_train_metro',\n",
       "   'locRank': 2,\n",
       "   'natRank': 125,\n",
       "   'value': 2.69}),\n",
       " ('Broxtowe',\n",
       "  {'label': 'agemed_value_change_all',\n",
       "   'locRank': 4,\n",
       "   'natRank': 31,\n",
       "   'value': 5.26}),\n",
       " ('Erewash',\n",
       "  {'label': 'population_value_change_all',\n",
       "   'locRank': -5,\n",
       "   'natRank': -33,\n",
       "   'value': 1.8})]"
      ]
     },
     "execution_count": 375,
     "metadata": {},
     "output_type": "execute_result"
    }
   ],
   "source": [
    "sorted([(lad['name'], lad['pri'][0]) for lad in lads if lad['name'] in [i[1] for i in geogTriples if i[0]==\"Amber Valley\"]], key=lambda x: abs(x[1]['locRank']))\n"
   ]
  },
  {
   "cell_type": "code",
   "execution_count": null,
   "id": "74db9512-9faf-4016-be00-ce753e75978f",
   "metadata": {},
   "outputs": [],
   "source": []
  }
 ],
 "metadata": {
  "kernelspec": {
   "display_name": "Python 3",
   "language": "python",
   "name": "python3"
  },
  "language_info": {
   "codemirror_mode": {
    "name": "ipython",
    "version": 3
   },
   "file_extension": ".py",
   "mimetype": "text/x-python",
   "name": "python",
   "nbconvert_exporter": "python",
   "pygments_lexer": "ipython3",
   "version": "3.8.8"
  }
 },
 "nbformat": 4,
 "nbformat_minor": 5
}
